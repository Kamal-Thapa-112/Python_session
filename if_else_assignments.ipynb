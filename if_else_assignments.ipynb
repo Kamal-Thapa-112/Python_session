{
 "cells": [
  {
   "cell_type": "markdown",
   "id": "356b039f-dbdb-4380-8a6a-ffe2a224369e",
   "metadata": {},
   "source": [
    "**Suppose that a Firm pays its employee at the rate of $12 per hour. An employee has worked for 37hours. How much should the firm pay the employee? (Do normal way directly takes the input)**"
   ]
  },
  {
   "cell_type": "code",
   "execution_count": 6,
   "id": "3138e4ff-878d-4ed0-918a-f1bf451f108c",
   "metadata": {},
   "outputs": [
    {
     "name": "stdout",
     "output_type": "stream",
     "text": [
      "444 $\n"
     ]
    }
   ],
   "source": [
    "try:\n",
    "    salary_per_hour=12\n",
    "    worked=37\n",
    "    total_salary=worked*salary_per_hour\n",
    "    print(total_salary,\"$\")\n",
    "except Exception as e:\n",
    "    print(e)"
   ]
  },
  {
   "cell_type": "markdown",
   "id": "ba280585-8622-4c24-9135-194b04570d48",
   "metadata": {},
   "source": [
    "**How about prompting the user for the number of hours and using the input value to compute thetotal pay? (Above problem use eval concept and sep concept)**"
   ]
  },
  {
   "cell_type": "code",
   "execution_count": 13,
   "id": "5ac7860d-06fa-41a4-aeef-6ae7b07b9c6e",
   "metadata": {},
   "outputs": [
    {
     "name": "stdin",
     "output_type": "stream",
     "text": [
      "Enter the total number of hours you worked 5\n",
      "Enter wage per hour 5\n"
     ]
    },
    {
     "name": "stdout",
     "output_type": "stream",
     "text": [
      "The total number of hour worked is:5 and the per hour wage is 5 so the total salary is:25\n"
     ]
    }
   ],
   "source": [
    "try:\n",
    "    a=eval(input(\"Enter the total number of hours you worked\"))\n",
    "    b=eval(input(\"Enter wage per hour\"))\n",
    "    print(\"The total number of hour worked is:{} and the per hour wage is {} so the total salary is:{}\".format(a,b,a*b))\n",
    "except Exception as e:\n",
    "    print(e)"
   ]
  },
  {
   "cell_type": "markdown",
   "id": "acd55de9-5490-4d22-96bc-1e702f92c2c6",
   "metadata": {},
   "source": [
    "**For a certain academic subject the students are evaluated based on five tests - * Quiz 1 (20 marks - 10% Weight), * Quiz 2 (20 marks - 10% Weight), * Class test (50 marks - 25% Weight), * Assignment (100 marks - 25% weight) and\n",
    "* Project (200 marks - 30% weight).\n",
    "Design a program that will prompt the user for marks for each of the tests and calculate the overall\n",
    "marks (out of 100).**"
   ]
  },
  {
   "cell_type": "code",
   "execution_count": null,
   "id": "f08339db-78f3-40ad-8cf3-28f9dadfdbb9",
   "metadata": {},
   "outputs": [],
   "source": [
    "try:\n",
    "    quiz_1=eval(input(\"Enter students quiz marks of first quiz\"))\n",
    "    quiz_2=eval(input(\"Enter students quiz marks of second quiz\"))\n",
    "    cls_test=eval(input(\"Enter students class test marks\"))\n",
    "    Assgn=eval(input(\"Enter students assignments marks\"))\n",
    "    project=eval(input(\"Enter students project marks\"))\n",
    "    quiz_1_total=(quiz_1/20)\n",
    "except Exception as e:\n",
    "    print(e)"
   ]
  }
 ],
 "metadata": {
  "kernelspec": {
   "display_name": "Python [conda env:base] *",
   "language": "python",
   "name": "conda-base-py"
  },
  "language_info": {
   "codemirror_mode": {
    "name": "ipython",
    "version": 3
   },
   "file_extension": ".py",
   "mimetype": "text/x-python",
   "name": "python",
   "nbconvert_exporter": "python",
   "pygments_lexer": "ipython3",
   "version": "3.12.7"
  }
 },
 "nbformat": 4,
 "nbformat_minor": 5
}
