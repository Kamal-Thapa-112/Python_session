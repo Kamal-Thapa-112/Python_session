{
 "cells": [
  {
   "cell_type": "markdown",
   "id": "042d554a-90dc-46a1-b3c9-15d5e8125f0a",
   "metadata": {},
   "source": [
    "$$Conditional statements$$"
   ]
  },
  {
   "cell_type": "code",
   "execution_count": 41,
   "id": "adf2cfcf-9951-437a-8f47-254fd3f7a070",
   "metadata": {},
   "outputs": [
    {
     "name": "stdout",
     "output_type": "stream",
     "text": [
      "The name is python\n"
     ]
    }
   ],
   "source": [
    "\n",
    " n='python'\n",
    " if n=='python':\n",
    "    print(\"The name is python\")  \n",
    " else :\n",
    "    print(\"The name is not python\") \n"
   ]
  },
  {
   "cell_type": "code",
   "execution_count": 53,
   "id": "bae144f9-7c3e-43a6-ad92-d0fa356de65e",
   "metadata": {},
   "outputs": [
    {
     "name": "stdin",
     "output_type": "stream",
     "text": [
      "Enter a number 46\n"
     ]
    },
    {
     "name": "stdout",
     "output_type": "stream",
     "text": [
      "Number not in limit\n"
     ]
    }
   ],
   "source": [
    "n1=eval(input(\"Enter a number\"))\n",
    "if n1<=10 :\n",
    "     print(\"Your number is in limit\")\n",
    "else :\n",
    "     print(\"Number not in limit\")"
   ]
  },
  {
   "cell_type": "code",
   "execution_count": 71,
   "id": "33e50ffb-4fc9-479e-8791-0eae6de2a641",
   "metadata": {},
   "outputs": [
    {
     "name": "stdin",
     "output_type": "stream",
     "text": [
      "Enter a number:  1\n",
      "Enter a number: 1\n"
     ]
    },
    {
     "name": "stdout",
     "output_type": "stream",
     "text": [
      "The numbers are equal\n"
     ]
    }
   ],
   "source": [
    "try:\n",
    "    a = eval(input(\"Enter a number: \"))  \n",
    "    b = eval(input(\"Enter a number:\" ))  # Fixed missing quote\n",
    "    if a == b:\n",
    "        print(\"The numbers are equal\")\n",
    "    else:\n",
    "        print(\"The numbers are not equal\")\n",
    "except Exception as e:\n",
    "    print(\"An error occurred:\", e)  # Now this will catch eval() errors (e.g., non-numeric input)"
   ]
  },
  {
   "cell_type": "code",
   "execution_count": 83,
   "id": "dac3c3dd-c431-4299-95d9-7ead0fb47882",
   "metadata": {},
   "outputs": [
    {
     "name": "stdin",
     "output_type": "stream",
     "text": [
      "Enter a number ree\n"
     ]
    },
    {
     "name": "stdout",
     "output_type": "stream",
     "text": [
      "name 'ree' is not defined\n",
      "hi\n"
     ]
    }
   ],
   "source": [
    "try:\n",
    "    a=eval(input(\"Enter a number\"))\n",
    "    if a%2==0 :\n",
    "           print(\"Even number\")\n",
    "    else :\n",
    "           print(\"odd number\")\n",
    "except Exception as e:\n",
    " print(e)\n",
    " print(\"hi\") "
   ]
  },
  {
   "cell_type": "code",
   "execution_count": 89,
   "id": "5a3b6abb-a960-4b4a-a317-138123295497",
   "metadata": {},
   "outputs": [
    {
     "name": "stdout",
     "output_type": "stream",
     "text": [
      "29\n",
      "The number is odd\n"
     ]
    }
   ],
   "source": [
    "import random\n",
    "try:\n",
    "    a=random.randint(1,50)\n",
    "    print(a)\n",
    "    if a%2==0:\n",
    "        print(\"The number is even\")\n",
    "    else :\n",
    "        print(\"The number is odd\")\n",
    "except Exception as e:\n",
    "    print(e)"
   ]
  },
  {
   "cell_type": "code",
   "execution_count": 113,
   "id": "03675896-08b9-4a79-931f-d94911241c02",
   "metadata": {},
   "outputs": [
    {
     "name": "stdout",
     "output_type": "stream",
     "text": [
      "136\n",
      "You won\n"
     ]
    }
   ],
   "source": [
    "import random\n",
    "try:\n",
    "    a=random.randint(1,250)\n",
    "    print(a)\n",
    "    if a>=10 and a<=200 :\n",
    "        print(\"You won\")\n",
    "    else :\n",
    "        print(\"You lost\")\n",
    "except Exception as e:\n",
    "    print(e)"
   ]
  },
  {
   "cell_type": "code",
   "execution_count": 119,
   "id": "7cf93f8d-10a2-4e18-9c97-468fe257322d",
   "metadata": {},
   "outputs": [
    {
     "name": "stdin",
     "output_type": "stream",
     "text": [
      "ENter -1\n"
     ]
    },
    {
     "name": "stdout",
     "output_type": "stream",
     "text": [
      "Negative number\n"
     ]
    }
   ],
   "source": [
    "try:\n",
    "    a=eval(input(\"ENter\"))\n",
    "    \n",
    "    if a>=0  :\n",
    "        print(\"Positive number\")\n",
    "    else :\n",
    "        print(\"Negative number\")\n",
    "except Exception as e:\n",
    "    \n",
    "    print(e)"
   ]
  },
  {
   "cell_type": "code",
   "execution_count": 123,
   "id": "baadc760-a9a3-46fc-a63d-cc80c6449f7d",
   "metadata": {},
   "outputs": [
    {
     "name": "stdin",
     "output_type": "stream",
     "text": [
      "ENter 0\n"
     ]
    },
    {
     "name": "stdout",
     "output_type": "stream",
     "text": [
      "Subtle\n"
     ]
    }
   ],
   "source": [
    "# trying to use elif condirton\n",
    "try:\n",
    "    a=eval(input(\"ENter\"))\n",
    "    \n",
    "    if a>0  :\n",
    "        print(\"Positive number\")\n",
    "    elif  a==0 :\n",
    "        print(\"Subtle\") \n",
    "    else:\n",
    "        print(\"the number is negative\")\n",
    "except Exception as e:\n",
    "    \n",
    "    print(e)"
   ]
  },
  {
   "cell_type": "code",
   "execution_count": 133,
   "id": "966eaa98-0aec-4e8f-a8d5-6970cedd7972",
   "metadata": {},
   "outputs": [
    {
     "name": "stdin",
     "output_type": "stream",
     "text": [
      "ENter percentage 1\n"
     ]
    },
    {
     "name": "stdout",
     "output_type": "stream",
     "text": [
      "D\n"
     ]
    }
   ],
   "source": [
    "try:\n",
    "    a=eval(input(\"ENter percentage\"))\n",
    "    \n",
    "    if a> 90 :\n",
    "        print(\"A\")\n",
    "    elif a>=70 and a<=90 :\n",
    "        print(\"B\")\n",
    "    elif a>=50 and a<=70:\n",
    "        print(\"c\")\n",
    "    else:\n",
    "        print(\"D\")\n",
    "except Exception as e:\n",
    "    \n",
    "    print(e)"
   ]
  },
  {
   "cell_type": "code",
   "execution_count": 7,
   "id": "dfccf518-a939-4c41-acb6-338ee2c7fd2e",
   "metadata": {},
   "outputs": [
    {
     "name": "stdin",
     "output_type": "stream",
     "text": [
      "Enter distance 6\n"
     ]
    },
    {
     "name": "stdout",
     "output_type": "stream",
     "text": [
      "The charge is 40\n"
     ]
    }
   ],
   "source": [
    "try:\n",
    "    a=eval(input(\"Enter distance\"))\n",
    "    if a>10:\n",
    "        print(\"The charge is 100 rs\")\n",
    "    elif a>=7:\n",
    "        print(\"The charge is 70\")\n",
    "    elif a>=4:\n",
    "        print(\"The charge is 40\")\n",
    "    else:\n",
    "        print(\"The charge is 30\")\n",
    "except Exception as e:\n",
    "    print(e)\n",
    "        "
   ]
  },
  {
   "cell_type": "code",
   "execution_count": 15,
   "id": "e429d760-bef2-4c9f-a9f2-f44c9c442b3a",
   "metadata": {},
   "outputs": [
    {
     "name": "stdin",
     "output_type": "stream",
     "text": [
      "Enter your salary 700000\n",
      "Enter your tax percentage 5\n"
     ]
    },
    {
     "name": "stdout",
     "output_type": "stream",
     "text": [
      "Your tax amout is  35000.0\n"
     ]
    }
   ],
   "source": [
    "try:\n",
    "    sal=eval(input(\"Enter your salary\"))\n",
    "    if sal>=100000:\n",
    "        tax=eval(input(\"Enter your tax percentage\"))\n",
    "        print(\"Your tax amout is \",(sal*tax)/100)\n",
    "    elif sal>=700000:\n",
    "        tax=eval(input(\"Enter your tax percentage\"))\n",
    "        print(\"Your tax amout is \",(sal*tax)/100)\n",
    "    elif sal>=400000:\n",
    "        tax=eval(input(\"Enter your tax percentage\"))\n",
    "        print(\"Your tax amout is \",(sal*tax)/100)\n",
    "    else:\n",
    "        print(\"No tax\")\n",
    "except Exception as e:\n",
    "    print(e)\n",
    "    \n",
    "        "
   ]
  },
  {
   "cell_type": "code",
   "execution_count": 29,
   "id": "20b187e1-ac58-4755-b6b0-4a6863079aff",
   "metadata": {},
   "outputs": [
    {
     "name": "stdin",
     "output_type": "stream",
     "text": [
      "What arithmetical operation you wanna do div\n",
      "Enter number 1 4\n",
      "Enter number 1 2\n"
     ]
    },
    {
     "name": "stdout",
     "output_type": "stream",
     "text": [
      "2.0\n"
     ]
    }
   ],
   "source": [
    "try:\n",
    "    a=input(\"What arithmetical operation you wanna do\")\n",
    "    if a=='sum' or a=='SUM':\n",
    "        n1=eval(input(\"Enter number 1\"))\n",
    "        n2=eval(input(\"Enter number 1\"))\n",
    "        sm=n1+n2\n",
    "        print(sm)\n",
    "    elif a=='sub' or a=='SUB':\n",
    "        n1=eval(input(\"Enter number 1\"))\n",
    "        n2=eval(input(\"Enter number 1\"))\n",
    "        sb=n1-n2\n",
    "        print(sb)\n",
    "    elif a=='mul' or a=='MUL':\n",
    "        n1=eval(input(\"Enter number 1\"))\n",
    "        n2=eval(input(\"Enter number 1\"))\n",
    "        ml=n1*n2\n",
    "        print(ml)\n",
    "    elif a=='div' or a=='DIV':\n",
    "        n1=eval(input(\"Enter number 1\"))\n",
    "        n2=eval(input(\"Enter number 1\"))\n",
    "        dv=n1/n2\n",
    "        print(dv)\n",
    "except Exception as e:\n",
    "    print(e)\n",
    "    \n",
    "    \n",
    "    "
   ]
  },
  {
   "cell_type": "code",
   "execution_count": 35,
   "id": "ba2bbbc8-c4a7-4ec6-a457-837e2bdc7135",
   "metadata": {},
   "outputs": [
    {
     "ename": "SyntaxError",
     "evalue": "invalid syntax (2067604256.py, line 1)",
     "output_type": "error",
     "traceback": [
      "\u001b[1;36m  Cell \u001b[1;32mIn[35], line 1\u001b[1;36m\u001b[0m\n\u001b[1;33m    int a=1\u001b[0m\n\u001b[1;37m        ^\u001b[0m\n\u001b[1;31mSyntaxError\u001b[0m\u001b[1;31m:\u001b[0m invalid syntax\n"
     ]
    }
   ],
   "source": []
  },
  {
   "cell_type": "code",
   "execution_count": null,
   "id": "0b08381e-c8fb-4865-9446-68c946c41851",
   "metadata": {},
   "outputs": [],
   "source": []
  }
 ],
 "metadata": {
  "kernelspec": {
   "display_name": "Python [conda env:base] *",
   "language": "python",
   "name": "conda-base-py"
  },
  "language_info": {
   "codemirror_mode": {
    "name": "ipython",
    "version": 3
   },
   "file_extension": ".py",
   "mimetype": "text/x-python",
   "name": "python",
   "nbconvert_exporter": "python",
   "pygments_lexer": "ipython3",
   "version": "3.12.7"
  }
 },
 "nbformat": 4,
 "nbformat_minor": 5
}
