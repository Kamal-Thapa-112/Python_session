{
 "cells": [
  {
   "cell_type": "code",
   "execution_count": 9,
   "id": "5289e372-9393-4cfc-859a-1be74349a417",
   "metadata": {},
   "outputs": [
    {
     "name": "stdin",
     "output_type": "stream",
     "text": [
      "ENter a number -1\n"
     ]
    },
    {
     "name": "stdout",
     "output_type": "stream",
     "text": [
      "The number is negative\n"
     ]
    }
   ],
   "source": [
    "try:\n",
    "    a=eval(input(\"ENter a number\"))\n",
    "    if a>=0:\n",
    "        if a==0:\n",
    "            print(\"The number is zero\")\n",
    "        else:\n",
    "            print(\"The number is positive\")\n",
    "    else:\n",
    "        print(\"The number is negative\")\n",
    "except Exception as e:\n",
    "    print(e)\n"
   ]
  },
  {
   "cell_type": "code",
   "execution_count": 35,
   "id": "5916d5a2-37c3-4126-833f-03e730632e27",
   "metadata": {},
   "outputs": [
    {
     "name": "stdin",
     "output_type": "stream",
     "text": [
      "Enter your gender asdaw\n"
     ]
    },
    {
     "name": "stdout",
     "output_type": "stream",
     "text": [
      "Enter valid gender\n"
     ]
    }
   ],
   "source": [
    "try:\n",
    "    a=input(\"Enter your gender\")\n",
    "    if a=='Male':\n",
    "        age=eval(input(\"Enter your age\"))\n",
    "        if age>60:\n",
    "            print(\"Senior citizen\")\n",
    "        elif age>=30:\n",
    "            print(\"Middle aged man\")\n",
    "        elif age>20:\n",
    "            print(\"Young man\")\n",
    "        elif age>13:\n",
    "            print(\"Teen boy\")\n",
    "        else:\n",
    "            print(\"Baby\")\n",
    "    elif a=='female':\n",
    "        age=eval(input(\"Enter your age\"))\n",
    "        if age>60:\n",
    "            print(\"Senior citizen\")\n",
    "        elif age>=30:\n",
    "            print(\"Middle aged women\")\n",
    "        elif age>20:\n",
    "            print(\"Young women\")\n",
    "        elif age>13:\n",
    "            print(\"Teen girl\")\n",
    "        else:\n",
    "            print(\"Baby\")\n",
    "    else :\n",
    "        print(\"Enter valid gender\")\n",
    "    \n",
    "except Exception as e:\n",
    "    print(e)"
   ]
  },
  {
   "cell_type": "code",
   "execution_count": 55,
   "id": "ee3c7844-a82d-47bc-95ab-85babe9ba544",
   "metadata": {},
   "outputs": [
    {
     "name": "stdin",
     "output_type": "stream",
     "text": [
      "Enter number 2\n",
      "Enter number 1\n",
      "Enter number 1\n"
     ]
    },
    {
     "name": "stdout",
     "output_type": "stream",
     "text": [
      "2 is the biggest number among 1 and 1\n"
     ]
    }
   ],
   "source": [
    "#Important questions for interview WAP to enter 3 numbers and find the biggest number\n",
    "a=eval(input(\"Enter number\"))\n",
    "b=eval(input(\"Enter number\"))\n",
    "c=eval(input(\"Enter number\"))\n",
    "if a>b and a>c:\n",
    "    print(\"{} is the biggest number among {} and {}\".format(a,b,c))\n",
    "elif b>a and b>c:\n",
    "    print(\"{} is the biggest number among {} and {}\".format(b,a,c))\n",
    "else:\n",
    "    print(\"{} is the biggest number among {} and {}\".format(c,a,b))\n",
    "         \n",
    "         \n",
    "    \n"
   ]
  },
  {
   "cell_type": "code",
   "execution_count": null,
   "id": "a13264e8-3b7f-4eef-8ef6-de1184211d36",
   "metadata": {},
   "outputs": [],
   "source": []
  }
 ],
 "metadata": {
  "kernelspec": {
   "display_name": "Python [conda env:base] *",
   "language": "python",
   "name": "conda-base-py"
  },
  "language_info": {
   "codemirror_mode": {
    "name": "ipython",
    "version": 3
   },
   "file_extension": ".py",
   "mimetype": "text/x-python",
   "name": "python",
   "nbconvert_exporter": "python",
   "pygments_lexer": "ipython3",
   "version": "3.12.7"
  }
 },
 "nbformat": 4,
 "nbformat_minor": 5
}
