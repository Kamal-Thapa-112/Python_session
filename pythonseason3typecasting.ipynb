{
 "cells": [
  {
   "cell_type": "markdown",
   "id": "f6ac33a4-0746-4bd3-9e21-61f1aab0f492",
   "metadata": {},
   "source": [
    "### Type Casting:"
   ]
  },
  {
   "cell_type": "markdown",
   "id": "4e61386f-cccb-4b50-ac48-0448e41139fd",
   "metadata": {},
   "source": [
    "- Change one data type to another data type\n",
    "- Int--->float\n",
    "- int---->string\n",
    "- abydata type to any datatype"
   ]
  },
  {
   "cell_type": "markdown",
   "id": "1a224d20-ee80-4a7c-82be-b765dd2b436a",
   "metadata": {},
   "source": [
    "**Integer to other datatypes**"
   ]
  },
  {
   "cell_type": "code",
   "execution_count": 6,
   "id": "50cd6780-8107-421b-8952-05e7456930ff",
   "metadata": {},
   "outputs": [
    {
     "data": {
      "text/plain": [
       "100"
      ]
     },
     "execution_count": 6,
     "metadata": {},
     "output_type": "execute_result"
    }
   ],
   "source": [
    "n1=100\n",
    "n1"
   ]
  },
  {
   "cell_type": "code",
   "execution_count": 18,
   "id": "e943716d-6bb5-4d9e-aeda-1595a417a714",
   "metadata": {},
   "outputs": [
    {
     "data": {
      "text/plain": [
       "100.0"
      ]
     },
     "execution_count": 18,
     "metadata": {},
     "output_type": "execute_result"
    }
   ],
   "source": [
    "#case 1 int to float \n",
    "float_number=float(n1)\n",
    "float_number"
   ]
  },
  {
   "cell_type": "code",
   "execution_count": 20,
   "id": "3e229cca-3c07-4d90-bbc0-81ac57ee6205",
   "metadata": {},
   "outputs": [
    {
     "data": {
      "text/plain": [
       "float"
      ]
     },
     "execution_count": 20,
     "metadata": {},
     "output_type": "execute_result"
    }
   ],
   "source": [
    " type(float_number)"
   ]
  },
  {
   "cell_type": "code",
   "execution_count": 24,
   "id": "dca04750-04a1-4c55-b316-7a84504b94bf",
   "metadata": {},
   "outputs": [
    {
     "data": {
      "text/plain": [
       "100"
      ]
     },
     "execution_count": 24,
     "metadata": {},
     "output_type": "execute_result"
    }
   ],
   "source": [
    "n=100\n",
    "n"
   ]
  },
  {
   "cell_type": "code",
   "execution_count": 26,
   "id": "ee8b0dd0-ab79-4aef-88a8-7714615c2b5b",
   "metadata": {},
   "outputs": [
    {
     "data": {
      "text/plain": [
       "int"
      ]
     },
     "execution_count": 26,
     "metadata": {},
     "output_type": "execute_result"
    }
   ],
   "source": [
    "type(n)"
   ]
  },
  {
   "cell_type": "code",
   "execution_count": 30,
   "id": "5bed2e1c-5e32-45ed-80ef-4c2066b5afa9",
   "metadata": {},
   "outputs": [
    {
     "data": {
      "text/plain": [
       "'100'"
      ]
     },
     "execution_count": 30,
     "metadata": {},
     "output_type": "execute_result"
    }
   ],
   "source": [
    "str_1=str(n)\n",
    "str_1"
   ]
  },
  {
   "cell_type": "code",
   "execution_count": 32,
   "id": "50877826-17b4-4497-9b61-f49c9191b24f",
   "metadata": {},
   "outputs": [
    {
     "data": {
      "text/plain": [
       "str"
      ]
     },
     "execution_count": 32,
     "metadata": {},
     "output_type": "execute_result"
    }
   ],
   "source": [
    "type(str_1)"
   ]
  },
  {
   "cell_type": "code",
   "execution_count": 36,
   "id": "c4b9f3fb-292d-4fbf-80b7-d42f67213e2c",
   "metadata": {},
   "outputs": [
    {
     "data": {
      "text/plain": [
       "True"
      ]
     },
     "execution_count": 36,
     "metadata": {},
     "output_type": "execute_result"
    }
   ],
   "source": [
    "#integer to boolean\n",
    "a=100\n",
    "boolean_n=bool(a)\n",
    "boolean_n"
   ]
  },
  {
   "cell_type": "code",
   "execution_count": 38,
   "id": "cce4838b-6e08-473f-baa3-8f25e882102c",
   "metadata": {},
   "outputs": [
    {
     "data": {
      "text/plain": [
       "bool"
      ]
     },
     "execution_count": 38,
     "metadata": {},
     "output_type": "execute_result"
    }
   ],
   "source": [
    "type(boolean_n)"
   ]
  },
  {
   "cell_type": "code",
   "execution_count": 44,
   "id": "36ee619e-2bd4-4c73-b5a9-f1e112e583ea",
   "metadata": {},
   "outputs": [
    {
     "data": {
      "text/plain": [
       "(50+0j)"
      ]
     },
     "execution_count": 44,
     "metadata": {},
     "output_type": "execute_result"
    }
   ],
   "source": [
    "#complex if 100 is provided\n",
    "a=50\n",
    "cmpl_1=complex(a)\n",
    "cmpl_1"
   ]
  },
  {
   "cell_type": "markdown",
   "id": "c3a44c09-befa-4959-b2e1-3b94e4634d1e",
   "metadata": {},
   "source": [
    "**string to other data types**"
   ]
  },
  {
   "cell_type": "code",
   "execution_count": 49,
   "id": "489c1b8d-4468-469b-b0ff-70eb52cff54e",
   "metadata": {},
   "outputs": [
    {
     "ename": "ValueError",
     "evalue": "invalid literal for int() with base 10: 'apple'",
     "output_type": "error",
     "traceback": [
      "\u001b[1;31m---------------------------------------------------------------------------\u001b[0m",
      "\u001b[1;31mValueError\u001b[0m                                Traceback (most recent call last)",
      "Cell \u001b[1;32mIn[49], line 2\u001b[0m\n\u001b[0;32m      1\u001b[0m string_value\u001b[38;5;241m=\u001b[39m\u001b[38;5;124m'\u001b[39m\u001b[38;5;124mapple\u001b[39m\u001b[38;5;124m'\u001b[39m\n\u001b[1;32m----> 2\u001b[0m \u001b[38;5;28mint\u001b[39m(string_value)\n",
      "\u001b[1;31mValueError\u001b[0m: invalid literal for int() with base 10: 'apple'"
     ]
    }
   ],
   "source": [
    "string_value='apple'\n",
    "int(string_value)\n",
    "#we willget error if we try to change char into mathmathecal numbers\n",
    "\n"
   ]
  },
  {
   "cell_type": "code",
   "execution_count": 51,
   "id": "ab35613e-eb66-4944-b47a-d879174a297b",
   "metadata": {},
   "outputs": [
    {
     "data": {
      "text/plain": [
       "True"
      ]
     },
     "execution_count": 51,
     "metadata": {},
     "output_type": "execute_result"
    }
   ],
   "source": [
    "#it will only work in boolean\n",
    "string=\"hello\" #true because we have provided something but if we left the quotation mark emptyit will give 0 meaning false \n",
    "a=bool(string)\n",
    "a"
   ]
  },
  {
   "cell_type": "code",
   "execution_count": 57,
   "id": "3003e6eb-7125-4681-a3a6-0278f2560925",
   "metadata": {},
   "outputs": [
    {
     "data": {
      "text/plain": [
       "'True'"
      ]
     },
     "execution_count": 57,
     "metadata": {},
     "output_type": "execute_result"
    }
   ],
   "source": [
    "a=True\n",
    "b=str(a)\n",
    "b"
   ]
  },
  {
   "cell_type": "code",
   "execution_count": 59,
   "id": "0a444cc5-5f30-4b52-b141-26ad8297ac43",
   "metadata": {},
   "outputs": [
    {
     "ename": "TypeError",
     "evalue": "int() argument must be a string, a bytes-like object or a real number, not 'complex'",
     "output_type": "error",
     "traceback": [
      "\u001b[1;31m---------------------------------------------------------------------------\u001b[0m",
      "\u001b[1;31mTypeError\u001b[0m                                 Traceback (most recent call last)",
      "Cell \u001b[1;32mIn[59], line 2\u001b[0m\n\u001b[0;32m      1\u001b[0m v\u001b[38;5;241m=\u001b[39m\u001b[38;5;241m100\u001b[39m\u001b[38;5;241m+\u001b[39m\u001b[38;5;241m0\u001b[39mj\n\u001b[1;32m----> 2\u001b[0m \u001b[38;5;28mint\u001b[39m(v)\n",
      "\u001b[1;31mTypeError\u001b[0m: int() argument must be a string, a bytes-like object or a real number, not 'complex'"
     ]
    }
   ],
   "source": [
    "v=100+0j\n"
   ]
  },
  {
   "cell_type": "code",
   "execution_count": null,
   "id": "5f09aaaa-7e84-43b8-9f4b-f827c5783870",
   "metadata": {},
   "outputs": [],
   "source": []
  }
 ],
 "metadata": {
  "kernelspec": {
   "display_name": "Python [conda env:base] *",
   "language": "python",
   "name": "conda-base-py"
  },
  "language_info": {
   "codemirror_mode": {
    "name": "ipython",
    "version": 3
   },
   "file_extension": ".py",
   "mimetype": "text/x-python",
   "name": "python",
   "nbconvert_exporter": "python",
   "pygments_lexer": "ipython3",
   "version": "3.12.7"
  }
 },
 "nbformat": 4,
 "nbformat_minor": 5
}
