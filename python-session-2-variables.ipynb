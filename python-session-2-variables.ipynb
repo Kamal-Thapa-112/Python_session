{
 "cells": [
  {
   "cell_type": "code",
   "execution_count": null,
   "id": "6e70ad35-47d3-48a8-81bd-e9999138c33b",
   "metadata": {},
   "outputs": [],
   "source": []
  },
  {
   "cell_type": "markdown",
   "id": "42cb5bde-68cf-4738-b0e9-b7e1a215a16c",
   "metadata": {},
   "source": [
    "### Variables"
   ]
  },
  {
   "cell_type": "markdown",
   "id": "34f27669-16ee-4f59-b5d6-4129f7d2a2ed",
   "metadata": {},
   "source": [
    "- variables term vary\n",
    "- you want to save some things in a place, so that place is called variable\n",
    "- variables will change constant will never change"
   ]
  },
  {
   "cell_type": "code",
   "execution_count": 7,
   "id": "8822ed7b-8e6a-467c-93bb-201bdbe0eeb1",
   "metadata": {},
   "outputs": [
    {
     "data": {
      "text/plain": [
       "100"
      ]
     },
     "execution_count": 7,
     "metadata": {},
     "output_type": "execute_result"
    }
   ],
   "source": [
    "n=100 # 100 value is stored in a variable called n \n",
    "n"
   ]
  },
  {
   "cell_type": "code",
   "execution_count": 9,
   "id": "19570355-fcaa-4d8a-adac-174abb732221",
   "metadata": {},
   "outputs": [
    {
     "data": {
      "text/plain": [
       "200"
      ]
     },
     "execution_count": 9,
     "metadata": {},
     "output_type": "execute_result"
    }
   ],
   "source": [
    "# if you bypass another value to a in another line the value ko variable will change thats why we call it variable\n",
    "a=200\n",
    "a"
   ]
  },
  {
   "cell_type": "markdown",
   "id": "9b3a5c94-b2e7-48a3-b52c-91a186c93588",
   "metadata": {},
   "source": [
    "**Rules to define variables**"
   ]
  },
  {
   "cell_type": "markdown",
   "id": "2973daf5-958f-409b-80c6-342c2e322d49",
   "metadata": {},
   "source": [
    "anything other than keyword can be used as variable"
   ]
  },
  {
   "cell_type": "code",
   "execution_count": 15,
   "id": "d907557a-0e03-4ba5-95d3-101745cfe551",
   "metadata": {},
   "outputs": [
    {
     "data": {
      "text/plain": [
       "100"
      ]
     },
     "execution_count": 15,
     "metadata": {},
     "output_type": "execute_result"
    }
   ],
   "source": [
    "n=100\n",
    "n\n"
   ]
  },
  {
   "cell_type": "code",
   "execution_count": 17,
   "id": "a02635dc-d214-4e56-8e6f-b1dd797a7de5",
   "metadata": {},
   "outputs": [
    {
     "ename": "SyntaxError",
     "evalue": "invalid syntax (3886186698.py, line 2)",
     "output_type": "error",
     "traceback": [
      "\u001b[1;36m  Cell \u001b[1;32mIn[17], line 2\u001b[1;36m\u001b[0m\n\u001b[1;33m    is=100\u001b[0m\n\u001b[1;37m    ^\u001b[0m\n\u001b[1;31mSyntaxError\u001b[0m\u001b[1;31m:\u001b[0m invalid syntax\n"
     ]
    }
   ],
   "source": [
    "#as you can see i used n as a variable and it is working now if i try to use anykeyword as a variable it wont work\n",
    "is=100\n",
    "is"
   ]
  },
  {
   "cell_type": "markdown",
   "id": "c2f47c7e-d882-44c8-8996-29dc2e4af4d0",
   "metadata": {},
   "source": [
    "the upper erros means that i can use keywoard as variables\n",
    "\n"
   ]
  },
  {
   "cell_type": "code",
   "execution_count": 20,
   "id": "ec5cda9e-8dec-4e0d-8c98-162afb7742d0",
   "metadata": {},
   "outputs": [
    {
     "ename": "SyntaxError",
     "evalue": "invalid decimal literal (3909280399.py, line 2)",
     "output_type": "error",
     "traceback": [
      "\u001b[1;36m  Cell \u001b[1;32mIn[20], line 2\u001b[1;36m\u001b[0m\n\u001b[1;33m    123n=100\u001b[0m\n\u001b[1;37m      ^\u001b[0m\n\u001b[1;31mSyntaxError\u001b[0m\u001b[1;31m:\u001b[0m invalid decimal literal\n"
     ]
    }
   ],
   "source": [
    "# you cant use numbers in initail lines in variables\n",
    "123n=100\n",
    "123n"
   ]
  },
  {
   "cell_type": "code",
   "execution_count": 22,
   "id": "1bee2a0d-a25b-4574-908c-3e6221e49e6a",
   "metadata": {},
   "outputs": [
    {
     "ename": "SyntaxError",
     "evalue": "invalid syntax (3225812454.py, line 3)",
     "output_type": "error",
     "traceback": [
      "\u001b[1;36m  Cell \u001b[1;32mIn[22], line 3\u001b[1;36m\u001b[0m\n\u001b[1;33m    n%\u001b[0m\n\u001b[1;37m      ^\u001b[0m\n\u001b[1;31mSyntaxError\u001b[0m\u001b[1;31m:\u001b[0m invalid syntax\n"
     ]
    }
   ],
   "source": [
    "#you cant use special character as well \n",
    "n%=100\n",
    "n%"
   ]
  },
  {
   "cell_type": "code",
   "execution_count": 26,
   "id": "4062d0c3-fc58-4895-be08-5e40799763b3",
   "metadata": {},
   "outputs": [
    {
     "data": {
      "text/plain": [
       "100"
      ]
     },
     "execution_count": 26,
     "metadata": {},
     "output_type": "execute_result"
    }
   ],
   "source": [
    "#If you have to give any spacing in variables dont use space bar use underscore \n",
    "n_number=100\n",
    "n_number\n"
   ]
  },
  {
   "cell_type": "markdown",
   "id": "8d40e348-3769-4a64-9bd5-59d8c580ade2",
   "metadata": {},
   "source": [
    "### DATA TYPES IN PYTHON\n",
    "-integer   \n",
    "   int\n",
    "-float       \n",
    "      float\n",
    "-strings     \n",
    "        str\n",
    "-boolean      \n",
    "       bool \n",
    "-complext conjugate   \n",
    "      complex"
   ]
  },
  {
   "cell_type": "markdown",
   "id": "08e0253a-7d68-4836-a961-b1545f77804f",
   "metadata": {},
   "source": [
    "$integer$"
   ]
  },
  {
   "cell_type": "code",
   "execution_count": 34,
   "id": "5fbd25af-c4f0-41ac-a641-f17c7456e7c7",
   "metadata": {},
   "outputs": [
    {
     "data": {
      "text/plain": [
       "100"
      ]
     },
     "execution_count": 34,
     "metadata": {},
     "output_type": "execute_result"
    }
   ],
   "source": [
    "n=100 # n is a variable of integer type\n",
    "n\n"
   ]
  },
  {
   "cell_type": "code",
   "execution_count": 36,
   "id": "88ed50fb-3d49-4f71-b595-75da15a11e72",
   "metadata": {},
   "outputs": [
    {
     "data": {
      "text/plain": [
       "int"
      ]
     },
     "execution_count": 36,
     "metadata": {},
     "output_type": "execute_result"
    }
   ],
   "source": [
    "#if you want to know the type of the variable you can use type() function\n",
    "type(n)"
   ]
  },
  {
   "cell_type": "markdown",
   "id": "f2f1e411-abf8-4bee-94e5-a5d1dd97e074",
   "metadata": {},
   "source": [
    "# IN maths to we have different number system \n",
    "- decimal\n",
    "- binary\n",
    "- octa\n",
    "- hexa\n"
   ]
  },
  {
   "cell_type": "markdown",
   "id": "9d31de15-715a-4699-bab9-a1ea81405611",
   "metadata": {},
   "source": [
    "**binary**\n",
    "- bi means 2 \n",
    "- so the base is 2 \n",
    "- here we will only use 2 digits : 0 and 1\n",
    "- ob110, 000110  these are some examples of binary "
   ]
  },
  {
   "cell_type": "code",
   "execution_count": 41,
   "id": "510dd177-6fc8-4dea-98c7-fb7def30e1b3",
   "metadata": {},
   "outputs": [
    {
     "data": {
      "text/plain": [
       "7"
      ]
     },
     "execution_count": 41,
     "metadata": {},
     "output_type": "execute_result"
    }
   ],
   "source": [
    "# if you write any binary python formalt will come decimal only\n",
    "0b111\n"
   ]
  },
  {
   "cell_type": "code",
   "execution_count": 43,
   "id": "0e84e5f5-a928-484f-b24e-a89c11189065",
   "metadata": {},
   "outputs": [
    {
     "data": {
      "text/plain": [
       "2"
      ]
     },
     "execution_count": 43,
     "metadata": {},
     "output_type": "execute_result"
    }
   ],
   "source": [
    "0b010"
   ]
  },
  {
   "cell_type": "markdown",
   "id": "74855fca-f1ab-425f-bb38-97f978f8f203",
   "metadata": {},
   "source": [
    "$octa$"
   ]
  },
  {
   "cell_type": "markdown",
   "id": "36b008c9-53df-40ae-b0dd-5de961301821",
   "metadata": {},
   "source": [
    "-Octa means 8\n",
    "- 0 1 2 3 4 5 6 7 8\n",
    "- we can use 0 1 2 3 4 5 6 7  digits in it\n",
    "- 0o765, 0o556 will work"
   ]
  },
  {
   "cell_type": "code",
   "execution_count": 49,
   "id": "81e14cde-569c-48e1-8be5-108d7a96d230",
   "metadata": {},
   "outputs": [
    {
     "data": {
      "text/plain": [
       "501"
      ]
     },
     "execution_count": 49,
     "metadata": {},
     "output_type": "execute_result"
    }
   ],
   "source": [
    "0o765\n"
   ]
  },
  {
   "cell_type": "markdown",
   "id": "71a519be-0b60-4164-b73e-27ed6bb4ed33",
   "metadata": {},
   "source": [
    "$hexa$"
   ]
  },
  {
   "cell_type": "markdown",
   "id": "3124adbe-b65b-44b3-86c9-6699e89bcec4",
   "metadata": {},
   "source": [
    "- hexa means 16\n",
    "- base is 16\n",
    "- 0 1 2 3 4 5 6 7 8 9 A B C D E F\n",
    "- 0xabc, 0x9af"
   ]
  },
  {
   "cell_type": "code",
   "execution_count": 53,
   "id": "bf1fcf5c-312f-4cef-908f-3b2bfa6edb06",
   "metadata": {},
   "outputs": [
    {
     "data": {
      "text/plain": [
       "2479"
      ]
     },
     "execution_count": 53,
     "metadata": {},
     "output_type": "execute_result"
    }
   ],
   "source": [
    "0x9af"
   ]
  },
  {
   "cell_type": "code",
   "execution_count": 57,
   "id": "0d18ed35-c846-4b65-b358-b95969941493",
   "metadata": {},
   "outputs": [
    {
     "data": {
      "text/plain": [
       "float"
      ]
     },
     "execution_count": 57,
     "metadata": {},
     "output_type": "execute_result"
    }
   ],
   "source": [
    "# float is bascially number in points\n",
    "n=1.1\n",
    "type(n)"
   ]
  },
  {
   "cell_type": "markdown",
   "id": "03034a5b-cbd9-4f82-9170-d5457a239a73",
   "metadata": {},
   "source": [
    "$E representation$"
   ]
  },
  {
   "cell_type": "code",
   "execution_count": 62,
   "id": "2d716bed-3586-4fa6-a4f4-fe8c408fc9be",
   "metadata": {},
   "outputs": [
    {
     "data": {
      "text/plain": [
       "10000.0"
      ]
     },
     "execution_count": 62,
     "metadata": {},
     "output_type": "execute_result"
    }
   ],
   "source": [
    "10e3 # 10 * 1000 = 10000"
   ]
  },
  {
   "cell_type": "code",
   "execution_count": 64,
   "id": "d5076b94-7b00-45a5-817d-0bce632a6716",
   "metadata": {},
   "outputs": [
    {
     "data": {
      "text/plain": [
       "10000.0"
      ]
     },
     "execution_count": 64,
     "metadata": {},
     "output_type": "execute_result"
    }
   ],
   "source": [
    "10e+3 # same answer "
   ]
  },
  {
   "cell_type": "code",
   "execution_count": 66,
   "id": "5440e792-531b-4f55-9129-f1a74a737751",
   "metadata": {},
   "outputs": [
    {
     "data": {
      "text/plain": [
       "100000.0"
      ]
     },
     "execution_count": 66,
     "metadata": {},
     "output_type": "execute_result"
    }
   ],
   "source": [
    "1e5"
   ]
  },
  {
   "cell_type": "code",
   "execution_count": 70,
   "id": "4e9ee850-4900-407a-bd18-c2d610433996",
   "metadata": {},
   "outputs": [
    {
     "data": {
      "text/plain": [
       "0.01"
      ]
     },
     "execution_count": 70,
     "metadata": {},
     "output_type": "execute_result"
    }
   ],
   "source": [
    "10e-3 # 10/1000 = 0.01"
   ]
  },
  {
   "cell_type": "markdown",
   "id": "8b52fabd-66c0-4915-8d06-4c3c006e0241",
   "metadata": {},
   "source": [
    "$string$"
   ]
  },
  {
   "cell_type": "code",
   "execution_count": 77,
   "id": "37c325ca-a149-4f7f-91a6-63aec844dd02",
   "metadata": {},
   "outputs": [
    {
     "data": {
      "text/plain": [
       "'hello my name is kamal'"
      ]
     },
     "execution_count": 77,
     "metadata": {},
     "output_type": "execute_result"
    }
   ],
   "source": [
    "name=\"hello my name is kamal\"\n",
    "name"
   ]
  },
  {
   "cell_type": "code",
   "execution_count": 79,
   "id": "7e0ff372-f057-4840-b758-2d849f2d9943",
   "metadata": {},
   "outputs": [
    {
     "data": {
      "text/plain": [
       "str"
      ]
     },
     "execution_count": 79,
     "metadata": {},
     "output_type": "execute_result"
    }
   ],
   "source": [
    "type(name)"
   ]
  },
  {
   "cell_type": "markdown",
   "id": "832e6674-4514-4f3d-b29a-ece32afc3b16",
   "metadata": {},
   "source": [
    "if i want output like this\n",
    "hi \n",
    "how are you"
   ]
  },
  {
   "cell_type": "code",
   "execution_count": 84,
   "id": "0d53d2e1-50d3-47c3-8c63-b6cfd586e542",
   "metadata": {},
   "outputs": [
    {
     "data": {
      "text/plain": [
       "'hi \\n          how are you'"
      ]
     },
     "execution_count": 84,
     "metadata": {},
     "output_type": "execute_result"
    }
   ],
   "source": [
    "# whenever you want to write multilines use trple quotes\n",
    "name4=\"\"\"hi \n",
    "          how are you\"\"\"\n",
    "name4"
   ]
  },
  {
   "cell_type": "markdown",
   "id": "331870e7-4a7b-413b-98fc-c25f1dbcc9a4",
   "metadata": {},
   "source": [
    "**Boolean**"
   ]
  },
  {
   "cell_type": "code",
   "execution_count": 2,
   "id": "7e93004e-5bf2-4aa6-a86a-c4fd9b005cdf",
   "metadata": {},
   "outputs": [
    {
     "data": {
      "text/plain": [
       "True"
      ]
     },
     "execution_count": 2,
     "metadata": {},
     "output_type": "execute_result"
    }
   ],
   "source": [
    "#whenever you ask any question to the computer\n",
    "#it will only give true or false \n",
    "# true is nothing but 1 false is 0\n",
    "a= True\n",
    "a"
   ]
  },
  {
   "cell_type": "code",
   "execution_count": 4,
   "id": "5b427e26-80eb-42c1-b3c2-675e0d2c9465",
   "metadata": {},
   "outputs": [
    {
     "data": {
      "text/plain": [
       "bool"
      ]
     },
     "execution_count": 4,
     "metadata": {},
     "output_type": "execute_result"
    }
   ],
   "source": [
    "type(a)"
   ]
  },
  {
   "cell_type": "code",
   "execution_count": 6,
   "id": "6fd6fb8a-2de5-4937-ba24-586f24aa7da6",
   "metadata": {},
   "outputs": [
    {
     "data": {
      "text/plain": [
       "False"
      ]
     },
     "execution_count": 6,
     "metadata": {},
     "output_type": "execute_result"
    }
   ],
   "source": [
    "a= False \n",
    "a"
   ]
  },
  {
   "cell_type": "markdown",
   "id": "aa274b7d-5b0d-4b23-b26d-804795d4285b",
   "metadata": {},
   "source": [
    "**complex conjugate**"
   ]
  },
  {
   "cell_type": "markdown",
   "id": "9907a52b-4644-485e-9349-00d10e2eb74a",
   "metadata": {},
   "source": [
    "- format of a+jb or a+ib where a is real number and b is imaginary number\n",
    "- i=rootunder -1\n",
    "- "
   ]
  },
  {
   "cell_type": "code",
   "execution_count": 17,
   "id": "11fe088d-3b76-4ca6-9096-2d7d6ccabb16",
   "metadata": {},
   "outputs": [
    {
     "data": {
      "text/plain": [
       "(3+5j)"
      ]
     },
     "execution_count": 17,
     "metadata": {},
     "output_type": "execute_result"
    }
   ],
   "source": [
    "n=3+5J\n",
    "n"
   ]
  },
  {
   "cell_type": "code",
   "execution_count": 19,
   "id": "5a96e099-3bf4-480d-8603-50a1b4f3b6dc",
   "metadata": {},
   "outputs": [
    {
     "data": {
      "text/plain": [
       "complex"
      ]
     },
     "execution_count": 19,
     "metadata": {},
     "output_type": "execute_result"
    }
   ],
   "source": [
    "type(n)"
   ]
  },
  {
   "cell_type": "code",
   "execution_count": 23,
   "id": "9ab4710e-7f58-4d7a-82e8-c6f823d0f563",
   "metadata": {},
   "outputs": [
    {
     "data": {
      "text/plain": [
       "(3+5j)"
      ]
     },
     "execution_count": 23,
     "metadata": {},
     "output_type": "execute_result"
    }
   ],
   "source": [
    "#if i want to retrieve only real value seperately \n",
    "n=3+5j # 3 is areal value and 5 is a imaginery value\n",
    "n\n"
   ]
  },
  {
   "cell_type": "code",
   "execution_count": 27,
   "id": "1eeacb83-d42d-4f80-8bcb-4dfad85ba2ea",
   "metadata": {},
   "outputs": [
    {
     "data": {
      "text/plain": [
       "['__abs__',\n",
       " '__add__',\n",
       " '__bool__',\n",
       " '__class__',\n",
       " '__complex__',\n",
       " '__delattr__',\n",
       " '__dir__',\n",
       " '__doc__',\n",
       " '__eq__',\n",
       " '__format__',\n",
       " '__ge__',\n",
       " '__getattribute__',\n",
       " '__getnewargs__',\n",
       " '__getstate__',\n",
       " '__gt__',\n",
       " '__hash__',\n",
       " '__init__',\n",
       " '__init_subclass__',\n",
       " '__le__',\n",
       " '__lt__',\n",
       " '__mul__',\n",
       " '__ne__',\n",
       " '__neg__',\n",
       " '__new__',\n",
       " '__pos__',\n",
       " '__pow__',\n",
       " '__radd__',\n",
       " '__reduce__',\n",
       " '__reduce_ex__',\n",
       " '__repr__',\n",
       " '__rmul__',\n",
       " '__rpow__',\n",
       " '__rsub__',\n",
       " '__rtruediv__',\n",
       " '__setattr__',\n",
       " '__sizeof__',\n",
       " '__str__',\n",
       " '__sub__',\n",
       " '__subclasshook__',\n",
       " '__truediv__',\n",
       " 'conjugate',\n",
       " 'imag',\n",
       " 'real']"
      ]
     },
     "execution_count": 27,
     "metadata": {},
     "output_type": "execute_result"
    }
   ],
   "source": [
    "dir(n)"
   ]
  },
  {
   "cell_type": "code",
   "execution_count": 29,
   "id": "16c8a5e1-9f86-4e64-948e-272d0199e753",
   "metadata": {},
   "outputs": [
    {
     "data": {
      "text/plain": [
       "3.0"
      ]
     },
     "execution_count": 29,
     "metadata": {},
     "output_type": "execute_result"
    }
   ],
   "source": [
    "n.real"
   ]
  },
  {
   "cell_type": "code",
   "execution_count": 31,
   "id": "f7dd83fe-ac84-4d75-bbcb-2a4cd255f9d7",
   "metadata": {},
   "outputs": [
    {
     "data": {
      "text/plain": [
       "5.0"
      ]
     },
     "execution_count": 31,
     "metadata": {},
     "output_type": "execute_result"
    }
   ],
   "source": [
    "n.imag"
   ]
  },
  {
   "cell_type": "code",
   "execution_count": 33,
   "id": "23eef75e-13e4-494f-b8f5-f17edd748c0b",
   "metadata": {},
   "outputs": [
    {
     "data": {
      "text/plain": [
       "<function complex.conjugate()>"
      ]
     },
     "execution_count": 33,
     "metadata": {},
     "output_type": "execute_result"
    }
   ],
   "source": [
    "n.conjugate"
   ]
  },
  {
   "cell_type": "code",
   "execution_count": 35,
   "id": "04ead5bb-c2c5-4bf6-abb9-d2c946d81b4e",
   "metadata": {},
   "outputs": [
    {
     "name": "stdout",
     "output_type": "stream",
     "text": [
      "Help on built-in function conjugate:\n",
      "\n",
      "conjugate() method of builtins.complex instance\n",
      "    Return the complex conjugate of its argument. (3-4j).conjugate() == 3+4j.\n",
      "\n"
     ]
    }
   ],
   "source": [
    "help(n.conjugate)"
   ]
  },
  {
   "cell_type": "code",
   "execution_count": 39,
   "id": "5293e5bf-f93e-4f94-85cb-6e82b655ca22",
   "metadata": {},
   "outputs": [
    {
     "data": {
      "text/plain": [
       "(3-5j)"
      ]
     },
     "execution_count": 39,
     "metadata": {},
     "output_type": "execute_result"
    }
   ],
   "source": [
    "n.conjugate()"
   ]
  },
  {
   "cell_type": "code",
   "execution_count": 43,
   "id": "996bf6a1-8742-4dae-97f8-7c3a2ce93c25",
   "metadata": {},
   "outputs": [
    {
     "data": {
      "text/plain": [
       "(1+5j)"
      ]
     },
     "execution_count": 43,
     "metadata": {},
     "output_type": "execute_result"
    }
   ],
   "source": [
    "complex(real=1,imag=5)"
   ]
  },
  {
   "cell_type": "code",
   "execution_count": 45,
   "id": "d3f29fa9-8bbd-4987-9325-29dad645ccf4",
   "metadata": {},
   "outputs": [
    {
     "data": {
      "text/plain": [
       "(1-5j)"
      ]
     },
     "execution_count": 45,
     "metadata": {},
     "output_type": "execute_result"
    }
   ],
   "source": [
    "complex(real=1,imag=-5)"
   ]
  },
  {
   "cell_type": "code",
   "execution_count": null,
   "id": "ff560a3b-ccc1-4a90-a963-da9dcfd664f9",
   "metadata": {},
   "outputs": [],
   "source": []
  }
 ],
 "metadata": {
  "kernelspec": {
   "display_name": "Python [conda env:base] *",
   "language": "python",
   "name": "conda-base-py"
  },
  "language_info": {
   "codemirror_mode": {
    "name": "ipython",
    "version": 3
   },
   "file_extension": ".py",
   "mimetype": "text/x-python",
   "name": "python",
   "nbconvert_exporter": "python",
   "pygments_lexer": "ipython3",
   "version": "3.12.7"
  }
 },
 "nbformat": 4,
 "nbformat_minor": 5
}
