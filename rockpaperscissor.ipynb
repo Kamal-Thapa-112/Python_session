{
 "cells": [
  {
   "cell_type": "markdown",
   "id": "06176155-374c-4101-bf55-e660b8245e41",
   "metadata": {},
   "source": [
    "**A rock paper scissor project by Kamal**"
   ]
  },
  {
   "cell_type": "code",
   "execution_count": 11,
   "id": "79836041-f6d8-412f-b482-60bf6ce9e0b1",
   "metadata": {},
   "outputs": [
    {
     "name": "stdout",
     "output_type": "stream",
     "text": [
      "Enter 1 to choose rock 2 to choose paper and  3 to choose scissor\n"
     ]
    },
    {
     "name": "stdin",
     "output_type": "stream",
     "text": [
      "Enter number 1\n"
     ]
    },
    {
     "name": "stdout",
     "output_type": "stream",
     "text": [
      "Computer entered 3 and human entered 1\n",
      "rock beats scissor,human won\n"
     ]
    }
   ],
   "source": [
    "import random\n",
    "try:\n",
    "    print(\"Enter 1 to choose rock 2 to choose paper and  3 to choose scissor\")\n",
    "    a=random.randint(1,3)\n",
    "    b=eval(input(\"Enter number\"))\n",
    "    print(\"Computer entered {} and human entered {}\".format(a,b))\n",
    "    if a==1 and b==2:\n",
    "        print(\"Paper bags rock  human won\")\n",
    "    elif a==2 and b==1:\n",
    "        print(\"Paper bags rock computer won\")\n",
    "    elif a==2 and b==3:\n",
    "        print(\"scissor cuts paper  human won\")\n",
    "    elif a==3 and b==2:\n",
    "        print(\"scissor cuts paper computer won\")\n",
    "    elif a==3 and b==1:\n",
    "        print(\"rock beats scissor,human won\")\n",
    "    elif a==1 and b==3:\n",
    "        print(\"rock beats scisor,computerwon\")\n",
    "    elif a==b:\n",
    "        print(\"draw\")\n",
    "    else :\n",
    "        print(\"Enter a valid number\")\n",
    "except Exception as e:\n",
    "    print(e)"
   ]
  },
  {
   "cell_type": "code",
   "execution_count": 5,
   "id": "b5b48c45-fb62-49f6-aa70-341b4458b876",
   "metadata": {},
   "outputs": [
    {
     "name": "stdout",
     "output_type": "stream",
     "text": [
      "820\n",
      "180\n"
     ]
    }
   ],
   "source": [
    "print(325+125+250+120)\n",
    "print(1000-820)\n"
   ]
  },
  {
   "cell_type": "code",
   "execution_count": null,
   "id": "41aaaa5d-9991-4848-a258-1493f7d2f0b0",
   "metadata": {},
   "outputs": [],
   "source": [
    "fingernails=250\n",
    "ful bala=125\n",
    "set=325\n",
    "box=120\n"
   ]
  },
  {
   "cell_type": "code",
   "execution_count": 3,
   "id": "e7ad17f2-97a1-4b09-8d6f-7cf35ab2b97c",
   "metadata": {},
   "outputs": [
    {
     "name": "stdout",
     "output_type": "stream",
     "text": [
      "lrig doog a si apeeD\n"
     ]
    }
   ],
   "source": [
    "a='Deepa is a good girl'\n",
    "reversed= a[::-1]\n",
    "print(reversed)"
   ]
  },
  {
   "cell_type": "code",
   "execution_count": null,
   "id": "b8483388-a1db-44b5-9868-287fb32ec037",
   "metadata": {},
   "outputs": [],
   "source": []
  }
 ],
 "metadata": {
  "kernelspec": {
   "display_name": "Python [conda env:base] *",
   "language": "python",
   "name": "conda-base-py"
  },
  "language_info": {
   "codemirror_mode": {
    "name": "ipython",
    "version": 3
   },
   "file_extension": ".py",
   "mimetype": "text/x-python",
   "name": "python",
   "nbconvert_exporter": "python",
   "pygments_lexer": "ipython3",
   "version": "3.12.7"
  }
 },
 "nbformat": 4,
 "nbformat_minor": 5
}
