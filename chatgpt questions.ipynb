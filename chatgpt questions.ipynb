{
 "cells": [
  {
   "cell_type": "markdown",
   "id": "fc4fb720-9bf4-4c56-bbea-a117d45d452b",
   "metadata": {},
   "source": [
    "**Simple Calculator**"
   ]
  },
  {
   "cell_type": "code",
   "execution_count": 7,
   "id": "0ae83650-15b8-4536-8efc-9ac50ce070b5",
   "metadata": {},
   "outputs": [
    {
     "name": "stdin",
     "output_type": "stream",
     "text": [
      "Enter 1 to add 2 to subract 3 to multiply and 4 to divide 4\n",
      "Enter first number 6\n",
      "Enter second number 2\n"
     ]
    },
    {
     "name": "stdout",
     "output_type": "stream",
     "text": [
      "The sum is 3.0\n"
     ]
    }
   ],
   "source": [
    "def sum():\n",
    "    sm=num_1+num_2\n",
    "    print(\"The sum is\",sm)\n",
    "def sub():\n",
    "    sm=num_1-num_2\n",
    "    print(\"The subraction is\",sm)\n",
    "def mul():\n",
    "    sm=num_1*num_2\n",
    "    print(\"The multiplication is\",sm)\n",
    "def div():\n",
    "    sm=num_1/num_2\n",
    "    print(\"The division is\",sm)\n",
    "try:\n",
    "    o=eval(input(\"Enter 1 to add 2 to subract 3 to multiply and 4 to divide\"))\n",
    "    num_1=eval(input(\"Enter first number\"))\n",
    "    num_2=eval(input(\"Enter second number\"))\n",
    "    if o==1:\n",
    "        sum()\n",
    "    elif o==2:\n",
    "        sub()\n",
    "    elif o==3:\n",
    "        mul()\n",
    "    elif o==4:\n",
    "        div()\n",
    "    else:\n",
    "        print(\"Enter a valid number\")\n",
    "except Exception as e:\n",
    "    print(e)\n",
    "       \n",
    "        "
   ]
  },
  {
   "cell_type": "markdown",
   "id": "05ade449-84e8-4d41-b223-d3995cd032fe",
   "metadata": {},
   "source": [
    "**Dice roller programme**"
   ]
  },
  {
   "cell_type": "code",
   "execution_count": 12,
   "id": "713d56b9-924d-4a3c-9193-de04c102f069",
   "metadata": {},
   "outputs": [
    {
     "name": "stdout",
     "output_type": "stream",
     "text": [
      "You rolled 2\n"
     ]
    },
    {
     "name": "stdin",
     "output_type": "stream",
     "text": [
      "Enter again to reroll the dice again\n"
     ]
    },
    {
     "name": "stdout",
     "output_type": "stream",
     "text": [
      "You rolled 3\n"
     ]
    },
    {
     "name": "stdin",
     "output_type": "stream",
     "text": [
      "Enter again to reroll the dice ada\n"
     ]
    }
   ],
   "source": [
    "import random\n",
    "for i in range(10,1,-1):\n",
    "    a=random.randint(1,6)\n",
    "    print(\"You rolled\",a)\n",
    "    b=input(\"Enter again to reroll the dice\")\n",
    "    if b=='again':\n",
    "        continue\n",
    "    else:\n",
    "        break\n",
    "          "
   ]
  },
  {
   "cell_type": "markdown",
   "id": "b4ccb2b0-d2ec-4f05-9c84-56fa7a8eac94",
   "metadata": {},
   "source": [
    "**Age calculator programme**"
   ]
  },
  {
   "cell_type": "code",
   "execution_count": 19,
   "id": "8d07f077-66fd-4e7f-a78a-a48895528bf4",
   "metadata": {},
   "outputs": [
    {
     "name": "stdin",
     "output_type": "stream",
     "text": [
      "Enter your birth date 2009\n"
     ]
    },
    {
     "name": "stdout",
     "output_type": "stream",
     "text": [
      "Your current age is  16\n"
     ]
    }
   ],
   "source": [
    "try:\n",
    "    Current_date=int(2025)\n",
    "    a=eval(input(\"Enter your birth date\"))\n",
    "    Current_age=Current_date-a\n",
    "    print(\"Your current age is \",Current_age)\n",
    "except Exception as e:\n",
    "    print(e)\n",
    "    \n",
    "    \n"
   ]
  },
  {
   "cell_type": "markdown",
   "id": "65599816-aaf7-45f9-829e-a27eda2770f7",
   "metadata": {},
   "source": [
    "**Number Guessing Game**"
   ]
  },
  {
   "cell_type": "code",
   "execution_count": 32,
   "id": "1562e4f7-45f7-4d85-a196-4a5f1f7749f7",
   "metadata": {},
   "outputs": [
    {
     "name": "stdin",
     "output_type": "stream",
     "text": [
      "Enter the number 13\n"
     ]
    },
    {
     "name": "stdout",
     "output_type": "stream",
     "text": [
      "The number is in the range\n"
     ]
    }
   ],
   "source": [
    "def num(a):\n",
    "    if a<=5:\n",
    "        print(\"The number is too low\")\n",
    "    elif a>=15:\n",
    "        print(\"The number is too low\")\n",
    "    elif a>5 and a<15:\n",
    "        print(\"The number is in the range\")\n",
    "    else:\n",
    "        print(\"Enter a valid number\")\n",
    "try:\n",
    "    a=eval(input(\"Enter the number\"))\n",
    "    num(a)\n",
    "except Exception as e:\n",
    "    print(e)\n",
    "    "
   ]
  },
  {
   "cell_type": "code",
   "execution_count": null,
   "id": "c8afd70c-a8f4-47c0-9d44-c72e777d995d",
   "metadata": {},
   "outputs": [],
   "source": [
    " try:\n",
    "        a=eval(input(\"Enter the number\"))\n",
    "        num(a)\n",
    "    except Exception as e:\n",
    "        print(e)"
   ]
  },
  {
   "cell_type": "code",
   "execution_count": 34,
   "id": "4fa62a7d-f7a9-40d3-adab-e8ad072e7679",
   "metadata": {},
   "outputs": [
    {
     "name": "stdout",
     "output_type": "stream",
     "text": [
      "3\n"
     ]
    }
   ],
   "source": [
    "a=1\n",
    "b=2\n",
    "sum=a+b\n",
    "print(sum)"
   ]
  },
  {
   "cell_type": "code",
   "execution_count": 40,
   "id": "b644444b-8456-4a43-9057-13c2b5196840",
   "metadata": {},
   "outputs": [
    {
     "name": "stdout",
     "output_type": "stream",
     "text": [
      "3\n",
      "11\n"
     ]
    }
   ],
   "source": [
    "def sm(a,b):\n",
    "    sm=a+b\n",
    "    print(sm)\n",
    "sm(1,2)\n",
    "sm(5,6)"
   ]
  },
  {
   "cell_type": "code",
   "execution_count": 42,
   "id": "ee0c3cd4-c3ed-4d01-9f85-ba5cc0199625",
   "metadata": {},
   "outputs": [
    {
     "name": "stdout",
     "output_type": "stream",
     "text": [
      "My name is Kamal\n"
     ]
    }
   ],
   "source": [
    "def nm(a):\n",
    "    print(\"My name is {}\".format(a))\n",
    "nm('Kamal')\n"
   ]
  },
  {
   "cell_type": "code",
   "execution_count": null,
   "id": "f5675d99-b8f7-40a0-8141-681ca670a0b8",
   "metadata": {},
   "outputs": [],
   "source": []
  }
 ],
 "metadata": {
  "kernelspec": {
   "display_name": "Python [conda env:base] *",
   "language": "python",
   "name": "conda-base-py"
  },
  "language_info": {
   "codemirror_mode": {
    "name": "ipython",
    "version": 3
   },
   "file_extension": ".py",
   "mimetype": "text/x-python",
   "name": "python",
   "nbconvert_exporter": "python",
   "pygments_lexer": "ipython3",
   "version": "3.12.7"
  }
 },
 "nbformat": 4,
 "nbformat_minor": 5
}
