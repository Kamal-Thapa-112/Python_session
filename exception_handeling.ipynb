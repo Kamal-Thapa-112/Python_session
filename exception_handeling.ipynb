{
 "cells": [
  {
   "cell_type": "markdown",
   "id": "9847218b-14d0-4efb-933e-1c32ca36446c",
   "metadata": {},
   "source": [
    "**Exception Handling**\n",
    "   Suppose i have written 200 lines of code and have error in 16th line and the 16th line code is also not that mandatory so what i can do is use exception handeling to run the codes even with that error line "
   ]
  },
  {
   "cell_type": "code",
   "execution_count": 13,
   "id": "cad5cec1-f612-4c06-b8ac-4f8538a4a275",
   "metadata": {},
   "outputs": [
    {
     "name": "stdout",
     "output_type": "stream",
     "text": [
      "Error is there check code properly\n"
     ]
    }
   ],
   "source": [
    "try:\n",
    "    n=10\n",
    "    n2=ss #error is here\n",
    "    n3=30\n",
    "    add=n+n2+n3\n",
    "    print(add)\n",
    "except:\n",
    "    print(\"Error is there check code properly\") # if there is error in the code it will print this "
   ]
  },
  {
   "cell_type": "markdown",
   "id": "ceaf51e5-d253-4a2b-9872-91f92d0e6641",
   "metadata": {},
   "source": [
    "If i do the same error but without try and except"
   ]
  },
  {
   "cell_type": "code",
   "execution_count": 16,
   "id": "65148960-c8e9-4160-aabd-a6569c7af0db",
   "metadata": {},
   "outputs": [
    {
     "ename": "IndentationError",
     "evalue": "unexpected indent (3406420691.py, line 2)",
     "output_type": "error",
     "traceback": [
      "\u001b[1;36m  Cell \u001b[1;32mIn[16], line 2\u001b[1;36m\u001b[0m\n\u001b[1;33m    n2=ss #error is here\u001b[0m\n\u001b[1;37m    ^\u001b[0m\n\u001b[1;31mIndentationError\u001b[0m\u001b[1;31m:\u001b[0m unexpected indent\n"
     ]
    }
   ],
   "source": [
    "n=10\n",
    "    n2=ss #error is here\n",
    "    n3=30\n",
    "    add=n+n2+n3\n",
    "    print(add)"
   ]
  },
  {
   "cell_type": "markdown",
   "id": "677fc263-b201-40c5-afc3-f3c3f861b3a9",
   "metadata": {},
   "source": [
    "But the problem is this thing will only print your statement but not where the problem is so to do that use this"
   ]
  },
  {
   "cell_type": "code",
   "execution_count": 19,
   "id": "c0186819-506f-499a-97ec-73b40b3084ba",
   "metadata": {},
   "outputs": [
    {
     "name": "stdout",
     "output_type": "stream",
     "text": [
      "name 'abc' is not defined\n"
     ]
    }
   ],
   "source": [
    "try:\n",
    "    a=1\n",
    "    b=abc\n",
    "    n=a+1\n",
    "    print(n)\n",
    "except Exception as e:\n",
    "    print(e)"
   ]
  },
  {
   "cell_type": "code",
   "execution_count": 29,
   "id": "2d70eabc-19c0-4924-a584-c12864d04d2a",
   "metadata": {},
   "outputs": [
    {
     "name": "stdin",
     "output_type": "stream",
     "text": [
      "Enter a number s\n"
     ]
    },
    {
     "name": "stdout",
     "output_type": "stream",
     "text": [
      "0\n"
     ]
    }
   ],
   "source": [
    " #wap ask the user enter a number and find the square of the number in tr y and exception block\n",
    "try:  \n",
    "    a=eval(input(\"Enter a number\"))\n",
    "    s=a*a\n",
    "    print(s)\n",
    "except Exception as e:\n",
    "    print(e)"
   ]
  },
  {
   "cell_type": "code",
   "execution_count": 39,
   "id": "c2d69fdb-e6c5-45ae-acbc-19f33f4d96c3",
   "metadata": {},
   "outputs": [
    {
     "name": "stdin",
     "output_type": "stream",
     "text": [
      "Enter a number 2\n"
     ]
    },
    {
     "name": "stdout",
     "output_type": "stream",
     "text": [
      "hi\n",
      "name 'ab' is not defined\n",
      "hello\n",
      "python\n"
     ]
    }
   ],
   "source": [
    "try:  \n",
    "    a=eval(input(\"Enter a number\"))\n",
    "    s=a*ab  #error is here \n",
    "    print(s)\n",
    "except Exception as e:\n",
    "    print(\"hi\")\n",
    "    print(e)\n",
    "    print(\"hello\")\n",
    "print(\"python\")  # this is outside exception block"
   ]
  },
  {
   "cell_type": "code",
   "execution_count": 7,
   "id": "979087e2-f5b1-48f6-aef1-d627fb1aef1f",
   "metadata": {},
   "outputs": [
    {
     "name": "stdout",
     "output_type": "stream",
     "text": [
      "4255\n"
     ]
    }
   ],
   "source": [
    "c_500=5*500\n",
    "c_100=4*100\n",
    "c_50=24*50\n",
    "c_20=4*20\n",
    "c_10=7*10\n",
    "c_5=1*5\n",
    "sm=c_500+c_100+c_50+c_20+c_10+c_5\n",
    "print(sm)"
   ]
  },
  {
   "cell_type": "code",
   "execution_count": null,
   "id": "65dddbb4-d642-4162-868a-86a90a67f52a",
   "metadata": {},
   "outputs": [],
   "source": []
  }
 ],
 "metadata": {
  "kernelspec": {
   "display_name": "Python [conda env:base] *",
   "language": "python",
   "name": "conda-base-py"
  },
  "language_info": {
   "codemirror_mode": {
    "name": "ipython",
    "version": 3
   },
   "file_extension": ".py",
   "mimetype": "text/x-python",
   "name": "python",
   "nbconvert_exporter": "python",
   "pygments_lexer": "ipython3",
   "version": "3.12.7"
  }
 },
 "nbformat": 4,
 "nbformat_minor": 5
}
