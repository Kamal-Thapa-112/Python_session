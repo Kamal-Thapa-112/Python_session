{
 "cells": [
  {
   "cell_type": "markdown",
   "id": "9294cc3c-8912-422f-8e58-a831e4afa379",
   "metadata": {},
   "source": [
    "**While Loop**"
   ]
  },
  {
   "cell_type": "markdown",
   "id": "abbbd382-9073-4017-81ac-ab7bf4cbc843",
   "metadata": {},
   "source": [
    "- in while loop we need to privde all three are individuall\n",
    "- You need to create the wrapper first\n",
    "- in for loop all of the 3 things are done in one line but in while loop you have to do it all\n",
    "- if you want to avoid infinite loop, giver proper condition\n",
    "- even thought the condition is valid, you can enter inside the loop but you will never come out of the loop "
   ]
  },
  {
   "cell_type": "code",
   "execution_count": null,
   "id": "1b52134a-dd03-4958-aff8-6737f7564e35",
   "metadata": {},
   "outputs": [],
   "source": [
    "# i want to print first 10 numbers 0 to 9 \n",
    "i=0 #initial point\n",
    "while <conditon>: #if this satisfy you will go inside the loop\n",
    "    #statementt 1 \n",
    "    #statement 2 \n",
    "    i=i+1 # incremment \n",
    "\n"
   ]
  },
  {
   "cell_type": "code",
   "execution_count": 4,
   "id": "e2571469-251b-4134-9fee-164ea0fd7def",
   "metadata": {},
   "outputs": [
    {
     "name": "stdout",
     "output_type": "stream",
     "text": [
      "0 1 2 3 4 5 6 7 8 9 "
     ]
    }
   ],
   "source": [
    "#now in python code\n",
    "for i in range(0,10):\n",
    "    print(i,end=' ')"
   ]
  },
  {
   "cell_type": "code",
   "execution_count": 6,
   "id": "77351783-9fb1-42dc-9b35-a5da70836f89",
   "metadata": {},
   "outputs": [
    {
     "name": "stdout",
     "output_type": "stream",
     "text": [
      "0 1 2 3 4 5 6 7 8 9 "
     ]
    }
   ],
   "source": [
    "i=0\n",
    "while i<10:\n",
    "    print(i,end='')\n",
    "    i=i+1"
   ]
  },
  {
   "cell_type": "code",
   "execution_count": 40,
   "id": "13173a08-0a30-4e54-ad37-e0c4834b36db",
   "metadata": {},
   "outputs": [
    {
     "name": "stdout",
     "output_type": "stream",
     "text": [
      "10 11 12 13 14 15 16 17 18 19 "
     ]
    }
   ],
   "source": [
    "i=10\n",
    "while i<20:\n",
    "    print(i,end=\" \")\n",
    "    i=i+1"
   ]
  },
  {
   "cell_type": "code",
   "execution_count": 38,
   "id": "237c8f8c-eae4-4552-84a9-b77d7f603867",
   "metadata": {},
   "outputs": [
    {
     "name": "stdout",
     "output_type": "stream",
     "text": [
      "-1 -2 -3 -4 -5 -6 -7 -8 -9 -10 "
     ]
    }
   ],
   "source": [
    "i=-1\n",
    "while i>=-10:\n",
    "    print(i, end=\" \")\n",
    "    i=i-1\n",
    "    "
   ]
  },
  {
   "cell_type": "code",
   "execution_count": 46,
   "id": "03dc8c59-486f-4732-b7c5-ae9a23913f12",
   "metadata": {},
   "outputs": [
    {
     "name": "stdin",
     "output_type": "stream",
     "text": [
      "Enter number 1\n",
      "Enter number 2\n",
      "Enter number 3\n",
      "Enter number 4\n",
      "Enter number 6\n"
     ]
    }
   ],
   "source": [
    "# ask the user enter a number 5 times \n",
    "# print the square of the number \n",
    "# first do with for loop\n",
    "# and then with while loop\n",
    "for i in range(5):\n",
    "    a=eval(input(\"Enter number\"))"
   ]
  },
  {
   "cell_type": "code",
   "execution_count": 48,
   "id": "ea9bb996-06f3-4d67-87fb-e65a4ea5272b",
   "metadata": {},
   "outputs": [
    {
     "name": "stdin",
     "output_type": "stream",
     "text": [
      "enter number 1\n",
      "enter number 2\n",
      "enter number 3\n",
      "enter number 4\n",
      "enter number 5\n"
     ]
    }
   ],
   "source": [
    "# now in while loop \n",
    "i=0\n",
    "while i<5:\n",
    "    a=eval(input(\"enter number\"))\n",
    "    i=i+1"
   ]
  },
  {
   "cell_type": "code",
   "execution_count": 52,
   "id": "fdcdcbe7-6022-467f-b554-57ba02f57dd8",
   "metadata": {},
   "outputs": [
    {
     "name": "stdout",
     "output_type": "stream",
     "text": [
      "15\n",
      "225\n",
      "11\n",
      "121\n",
      "13\n",
      "169\n",
      "11\n",
      "121\n",
      "17\n",
      "289\n"
     ]
    }
   ],
   "source": [
    "#wap take a random number between 10 to 20, five times  and print the square of the number \n",
    "import random\n",
    "i=0\n",
    "while i<5:\n",
    "    a=random.randint(10,20)\n",
    "    print(a)\n",
    "    print(a*a)\n",
    "    i=i+1"
   ]
  },
  {
   "cell_type": "code",
   "execution_count": 56,
   "id": "b0a033f3-934e-445f-8d5f-88f44eeb1744",
   "metadata": {},
   "outputs": [
    {
     "name": "stdout",
     "output_type": "stream",
     "text": [
      "11 is a odd number\n",
      "13 is a odd number\n",
      "14 is an even number \n",
      "20 is an even number \n",
      "12 is an even number \n",
      "13 is a odd number\n",
      "10 is an even number \n",
      "20 is an even number \n",
      "10 is an even number \n",
      "15 is a odd number\n"
     ]
    }
   ],
   "source": [
    "#wap ask the user print a number is an even number or odd number \n",
    "# conisder number from 10 to 20\n",
    "import random\n",
    "i=0\n",
    "while i<10:\n",
    "    a=random.randint(10,20)\n",
    "    if a%2==0:\n",
    "        print(\"{} is an even number \".format(a))\n",
    "    elif a%2!=0:\n",
    "        print(\"{} is a odd number\".format(a))\n",
    "    else:\n",
    "        print(\"Enter a valid number\")\n",
    "    i+=1"
   ]
  },
  {
   "cell_type": "code",
   "execution_count": 3,
   "id": "f852b0be-0c07-4758-ab65-42a9467db028",
   "metadata": {},
   "outputs": [
    {
     "name": "stdout",
     "output_type": "stream",
     "text": [
      "55\n"
     ]
    }
   ],
   "source": [
    "#print sum of first 10 natural numbers\n",
    "i=1\n",
    "count=0\n",
    "while i<=10:\n",
    "    count=count+i\n",
    "    i=i+1\n",
    "print(count)"
   ]
  },
  {
   "cell_type": "code",
   "execution_count": 7,
   "id": "300cee4d-5752-428e-9487-41313565a6c0",
   "metadata": {},
   "outputs": [
    {
     "name": "stdout",
     "output_type": "stream",
     "text": [
      "596\n"
     ]
    }
   ],
   "source": [
    "#wap get 10 random numbers \n",
    "# sum those numbers\n",
    "import random\n",
    "i=1\n",
    "count=0\n",
    "while i<=10:\n",
    "    a=random.randint(1,100)\n",
    "    count=count+a\n",
    "    i+=1\n",
    "print(count)"
   ]
  },
  {
   "cell_type": "code",
   "execution_count": 17,
   "id": "ba28ab4b-b7ab-4080-96f7-7d6ebe62a596",
   "metadata": {},
   "outputs": [
    {
     "name": "stdout",
     "output_type": "stream",
     "text": [
      "49\n",
      "45\n",
      "13\n",
      "72\n",
      "45\n",
      "52\n",
      "17\n",
      "63\n",
      "70\n",
      "79\n",
      "5\n"
     ]
    }
   ],
   "source": [
    "import random\n",
    "i=1\n",
    "count=0\n",
    "while i<=10:\n",
    "    a=random.randint(1,100)\n",
    "    print(a)\n",
    "    if a>50:\n",
    "        count+=1\n",
    "    \n",
    "    i+=1\n",
    "print(count)"
   ]
  },
  {
   "cell_type": "code",
   "execution_count": null,
   "id": "b8382368-3e26-4fec-beaa-1d7c9f1b2ec5",
   "metadata": {},
   "outputs": [],
   "source": [
    "#wap to get 1o random numbers between 10 to 100\n",
    "# count how many are greater than 50 and equal to 0"
   ]
  },
  {
   "cell_type": "code",
   "execution_count": 33,
   "id": "b83b7a72-7b2b-4861-abda-655a0007a364",
   "metadata": {},
   "outputs": [
    {
     "name": "stdout",
     "output_type": "stream",
     "text": [
      "46 61 13 36 99 42 47 8 59 87 The total number greater than 50 is 4\n",
      "The total number equal to  0 is 0\n"
     ]
    }
   ],
   "source": [
    "import random\n",
    "i=1\n",
    "count=0\n",
    "count_2=0\n",
    "while i<=10:\n",
    "    a=random.randint(0,100)\n",
    "    print(a,end=\" \")\n",
    "    if a>50:\n",
    "        count+=1\n",
    "    eif a==0:\n",
    "        count_2=count_2+1\n",
    "    \n",
    "    i+=1\n",
    "print(\"The total number greater than 50 is\",count)\n",
    "print(\"The total number equal to  0 is\",count_2)"
   ]
  },
  {
   "cell_type": "code",
   "execution_count": null,
   "id": "517e5097-420c-440f-b45b-23f90949c293",
   "metadata": {},
   "outputs": [],
   "source": []
  },
  {
   "cell_type": "code",
   "execution_count": 79,
   "id": "ee0dd6e8-4482-4126-8f47-f276821319a4",
   "metadata": {},
   "outputs": [
    {
     "name": "stdin",
     "output_type": "stream",
     "text": [
      "Enter your current balance 200\n",
      "Enter your E balance  2000\n"
     ]
    },
    {
     "name": "stdout",
     "output_type": "stream",
     "text": [
      "Yout dont have enough balance please withdraw more\n"
     ]
    },
    {
     "name": "stdin",
     "output_type": "stream",
     "text": [
      "Enter the amount of withdraw money from your e blnc: 900\n"
     ]
    },
    {
     "name": "stdout",
     "output_type": "stream",
     "text": [
      "Now you have enough money and can play the game \n",
      "Do you want to withdraw more?\n"
     ]
    },
    {
     "name": "stdin",
     "output_type": "stream",
     "text": [
      "type yes to withdraw more Yes\n",
      " Again Enter the amount of money you want to withdraw 5000\n"
     ]
    },
    {
     "name": "stdout",
     "output_type": "stream",
     "text": [
      "Your balance in E balance is finished you cant withdraw\n",
      "1100\n",
      "1100\n"
     ]
    }
   ],
   "source": [
    "#A very intresting programme\n",
    "C_balance=eval(input(\"Enter your current balance\"))\n",
    "E_balance=eval(input(\"Enter your E balance \"))\n",
    "i=1\n",
    "while i>0:\n",
    "    if C_balance<1000:\n",
    "            print(\"Yout dont have enough balance please withdraw more\")\n",
    "            a=eval(input(\"Enter the amount of withdraw money from your e blnc:\"))\n",
    "            C_balance=C_balance+a\n",
    "            E_balance=E_balance-a\n",
    "    else:\n",
    "           print(\"Now you have enough money and can play the game \")\n",
    "           if C_balance>=1000:\n",
    "               print(\"Do you want to withdraw more?\")\n",
    "               h=input(\"type yes to withdraw more\")\n",
    "               if h=='Yes' or h=='YES':\n",
    "                   a=eval(input(\" Again Enter the amount of money you want to withdraw\"))\n",
    "                   if E_balance==0 or a>E_balance:\n",
    "                       print(\"Your balance in E balance is finished you cant withdraw\")\n",
    "                       break\n",
    "                   else:\n",
    "                       C_balance=C_balance+a\n",
    "                       E_balance=E_balance-a\n",
    "               else:\n",
    "                   break\n",
    "i=i+1\n",
    "print(C_balance)\n",
    "print(E_balance)\n",
    "   \n",
    "\n",
    "\n",
    "\n"
   ]
  },
  {
   "cell_type": "code",
   "execution_count": null,
   "id": "29045aef-055b-491a-9b9a-653689771a75",
   "metadata": {},
   "outputs": [],
   "source": []
  }
 ],
 "metadata": {
  "kernelspec": {
   "display_name": "Python [conda env:base] *",
   "language": "python",
   "name": "conda-base-py"
  },
  "language_info": {
   "codemirror_mode": {
    "name": "ipython",
    "version": 3
   },
   "file_extension": ".py",
   "mimetype": "text/x-python",
   "name": "python",
   "nbconvert_exporter": "python",
   "pygments_lexer": "ipython3",
   "version": "3.12.7"
  }
 },
 "nbformat": 4,
 "nbformat_minor": 5
}
