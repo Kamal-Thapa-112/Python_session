{
 "cells": [
  {
   "cell_type": "markdown",
   "id": "cc521e8c-614d-4d63-a598-24f4a2b64f78",
   "metadata": {},
   "source": [
    "$For$ $loop$"
   ]
  },
  {
   "cell_type": "markdown",
   "id": "4103efa3-05d7-4a61-86f9-43e423ef9392",
   "metadata": {},
   "source": [
    "- It is used to repeat the code until and unless you  unsatisfy condition\n",
    "- Two types of loop  they are for loop and while loop\n"
   ]
  },
  {
   "cell_type": "markdown",
   "id": "8d87eb87-9404-4c25-85a0-9a15e9d57fb3",
   "metadata": {},
   "source": [
    "- Initialization\n",
    "- Increment or decrement\n",
    "- condition to stop the loop\n",
    "- python index always start with 0\n",
    "- if direction sign is also not mentioned : increment or positive sign\n",
    "- automatially incrimented when no sign is given\n",
    "- Id direction is postive side then end=stop-1\n",
    "- if step size is negative direction then end=stop+1"
   ]
  },
  {
   "cell_type": "code",
   "execution_count": null,
   "id": "f8a415da-23d1-4d05-a403-c09ddd1f0e53",
   "metadata": {},
   "outputs": [],
   "source": [
    "# I want to print first 10 number\n",
    "#initial point =0\n",
    "#increment\n",
    "# what is the condition \n",
    "# cond=10 the code to should stop\n",
    "    \n"
   ]
  },
  {
   "cell_type": "code",
   "execution_count": 11,
   "id": "7605a08b-7c2f-4a47-9243-4bf1c152a5c1",
   "metadata": {},
   "outputs": [
    {
     "name": "stdout",
     "output_type": "stream",
     "text": [
      "1\n",
      "2\n",
      "3\n",
      "4\n",
      "5\n",
      "6\n",
      "7\n",
      "8\n",
      "9\n",
      "10\n"
     ]
    }
   ],
   "source": [
    "# pattern 1\n",
    "for i in range(10): # here the default value is 0 \n",
    "    print(i+1)\n",
    "    \n"
   ]
  },
  {
   "cell_type": "code",
   "execution_count": 17,
   "id": "7985ee20-865a-4937-81aa-449cc15ae807",
   "metadata": {},
   "outputs": [
    {
     "name": "stdout",
     "output_type": "stream",
     "text": [
      "Kamal is hero than  1 People\n",
      "Kamal is hero than  2 People\n",
      "Kamal is hero than  3 People\n",
      "Kamal is hero than  4 People\n",
      "Kamal is hero than  5 People\n"
     ]
    }
   ],
   "source": [
    "for i in range(5):\n",
    "    print(\"Kamal is hero than \",i+1,\"People\")"
   ]
  },
  {
   "cell_type": "code",
   "execution_count": 19,
   "id": "bbcc5fc3-00a8-422f-9ea6-a0bba7d611c1",
   "metadata": {},
   "outputs": [
    {
     "name": "stdout",
     "output_type": "stream",
     "text": [
      "01234"
     ]
    }
   ],
   "source": [
    "## if i want to print all the thing in  line\n",
    "for i in range(5):\n",
    "    print(i,end='') # to remove vertical answer or to be more precise for horizontal answering "
   ]
  },
  {
   "cell_type": "code",
   "execution_count": 23,
   "id": "b96757a1-a9f9-435e-b129-d34fba57d230",
   "metadata": {},
   "outputs": [
    {
     "name": "stdout",
     "output_type": "stream",
     "text": [
      "1\n",
      "2\n",
      "3\n",
      "4\n",
      "5\n"
     ]
    }
   ],
   "source": [
    "for i in range(1,6): # you can also assign start value in python the syntax is range(start_val,end_val)\n",
    "    print(i)"
   ]
  },
  {
   "cell_type": "code",
   "execution_count": 28,
   "id": "ebc699a7-0d06-421b-a2b0-a217cc1ad8c7",
   "metadata": {},
   "outputs": [
    {
     "name": "stdout",
     "output_type": "stream",
     "text": [
      "2\n",
      "4\n",
      "6\n",
      "8\n",
      "10\n",
      "12\n",
      "14\n",
      "16\n",
      "18\n"
     ]
    }
   ],
   "source": [
    "for i in range(2,20,2): # the step value will skip numbers by 2 \n",
    "    print(i)"
   ]
  },
  {
   "cell_type": "code",
   "execution_count": 38,
   "id": "387e0391-f67c-48e3-bd07-c5133e6a1d37",
   "metadata": {},
   "outputs": [
    {
     "name": "stdout",
     "output_type": "stream",
     "text": [
      "2\n",
      "0\n",
      "-2\n",
      "-4\n",
      "-6\n",
      "-8\n"
     ]
    }
   ],
   "source": [
    "for i in range(2,-10,-2):\n",
    "    print(i)"
   ]
  },
  {
   "cell_type": "code",
   "execution_count": 44,
   "id": "4e7632af-8c8d-42a1-bf5b-ce5954db5092",
   "metadata": {},
   "outputs": [
    {
     "name": "stdout",
     "output_type": "stream",
     "text": [
      "-1-2-3-4-5-6-7-8-9"
     ]
    }
   ],
   "source": [
    "for i in range(-1,-10,-1):\n",
    "    print(i,end=\"\")"
   ]
  },
  {
   "cell_type": "code",
   "execution_count": 46,
   "id": "3b5a8b44-f465-4656-b1bd-d2c26e9cb96f",
   "metadata": {},
   "outputs": [
    {
     "name": "stdout",
     "output_type": "stream",
     "text": [
      "3\n",
      "6\n",
      "9\n",
      "12\n",
      "15\n",
      "18\n"
     ]
    }
   ],
   "source": [
    "for i in range(3,20,3):\n",
    "    print(i)"
   ]
  },
  {
   "cell_type": "code",
   "execution_count": 50,
   "id": "381a0b0f-47ff-4d46-904d-96b67511156b",
   "metadata": {
    "scrolled": true
   },
   "outputs": [
    {
     "name": "stdout",
     "output_type": "stream",
     "text": [
      "95.83333333333334\n"
     ]
    }
   ],
   "source": [
    "print((575/600)*100)"
   ]
  },
  {
   "cell_type": "code",
   "execution_count": 1,
   "id": "206bf88e-a99e-423a-9cbb-d0e04f2ce57a",
   "metadata": {},
   "outputs": [
    {
     "name": "stdout",
     "output_type": "stream",
     "text": [
      "Hekkoi\n",
      "Hekkoi\n",
      "Hekkoi\n"
     ]
    }
   ],
   "source": [
    "for i in range(3):\n",
    "    print(\"Hekkoi\")"
   ]
  },
  {
   "cell_type": "code",
   "execution_count": 5,
   "id": "456fff7b-d3ea-484d-a892-2a59a57f4df3",
   "metadata": {},
   "outputs": [
    {
     "name": "stdout",
     "output_type": "stream",
     "text": [
      "1\n",
      "2\n",
      "3\n"
     ]
    }
   ],
   "source": [
    "for i in range(3):\n",
    "    print(i+1)"
   ]
  },
  {
   "cell_type": "code",
   "execution_count": 15,
   "id": "da2df34a-4540-4bac-be51-2b1131dfaf19",
   "metadata": {},
   "outputs": [
    {
     "name": "stdout",
     "output_type": "stream",
     "text": [
      "A\n",
      "A\n",
      "A\n",
      "B\n",
      "B\n",
      "C\n",
      "C\n",
      "C\n"
     ]
    }
   ],
   "source": [
    "\n",
    "for i in range(3):\n",
    "    print(\"A\")\n",
    "for i in range(2):\n",
    "    print(\"B\")            \n",
    "for i in range(3):\n",
    "    print(\"C\")    "
   ]
  },
  {
   "cell_type": "code",
   "execution_count": 17,
   "id": "07e86d7b-9ea7-42d1-98c0-9268f4f13c6f",
   "metadata": {},
   "outputs": [
    {
     "name": "stdout",
     "output_type": "stream",
     "text": [
      "A\n",
      "B\n",
      "A\n",
      "B\n",
      "A\n",
      "B\n",
      "C\n",
      "C\n",
      "C\n"
     ]
    }
   ],
   "source": [
    "for i in range(3):\n",
    "    print(\"A\")\n",
    "    print(\"B\")\n",
    "for i in range(3):\n",
    "    print(\"C\")"
   ]
  },
  {
   "cell_type": "code",
   "execution_count": 31,
   "id": "c586f335-8bea-4bf8-a1c5-7ab32a193fe3",
   "metadata": {},
   "outputs": [
    {
     "name": "stdout",
     "output_type": "stream",
     "text": [
      "The square of 10 is 100\n",
      "The square of 11 is 121\n",
      "The square of 12 is 144\n",
      "The square of 13 is 169\n",
      "The square of 14 is 196\n",
      "The square of 15 is 225\n"
     ]
    }
   ],
   "source": [
    "#WAP ask the user get the square of the numbers\n",
    "#Between 10 t0 15\n",
    "for i in range(10,16,1):\n",
    "    print(\"The square of {} is {}\".format(i,i*i))\n"
   ]
  },
  {
   "cell_type": "code",
   "execution_count": 43,
   "id": "ede06aee-bbcd-4cec-979f-07b7086c26cf",
   "metadata": {},
   "outputs": [
    {
     "name": "stdin",
     "output_type": "stream",
     "text": [
      "Enter 1\n",
      "Enter 6\n"
     ]
    },
    {
     "name": "stdout",
     "output_type": "stream",
     "text": [
      "1\n",
      "4\n",
      "9\n",
      "16\n",
      "25\n"
     ]
    }
   ],
   "source": [
    "# same above quesn\n",
    "# Take the numbers from keybaord \n",
    "num1=eval(input(\"Enter\"))\n",
    "num2=eval(input(\"Enter\"))\n",
    "for i in range(num1,num2):\n",
    "    print(i*i)"
   ]
  },
  {
   "cell_type": "code",
   "execution_count": 47,
   "id": "e2bc6e6b-d2bf-4e80-ad81-255a75cdc79a",
   "metadata": {},
   "outputs": [
    {
     "name": "stdin",
     "output_type": "stream",
     "text": [
      "Enter 1\n",
      "Enter 6\n"
     ]
    },
    {
     "name": "stdout",
     "output_type": "stream",
     "text": [
      "1\n",
      "4\n",
      "9\n",
      "16\n",
      "25\n"
     ]
    }
   ],
   "source": [
    "def loop():\n",
    "    num1=eval(input(\"Enter\"))\n",
    "    num2=eval(input(\"Enter\"))\n",
    "    for i in range(num1,num2):\n",
    "        print(i*i)\n",
    "loop()"
   ]
  },
  {
   "cell_type": "code",
   "execution_count": 63,
   "id": "9242abe4-0d27-454a-b601-698138797a5f",
   "metadata": {},
   "outputs": [
    {
     "name": "stdout",
     "output_type": "stream",
     "text": [
      "25\n",
      "36\n",
      "49\n",
      "64\n",
      "81\n",
      "100\n",
      "121\n",
      "144\n",
      "169\n",
      "196\n",
      "225\n"
     ]
    }
   ],
   "source": [
    "def bb(a,b):\n",
    "    for i in range(a,b):\n",
    "        print(i*i)\n",
    "bb(5,16)"
   ]
  },
  {
   "cell_type": "code",
   "execution_count": 67,
   "id": "06ee26a3-a754-4367-85aa-8b9955603cff",
   "metadata": {},
   "outputs": [
    {
     "name": "stdin",
     "output_type": "stream",
     "text": [
      "ente 1\n"
     ]
    },
    {
     "name": "stdout",
     "output_type": "stream",
     "text": [
      "1\n"
     ]
    },
    {
     "name": "stdin",
     "output_type": "stream",
     "text": [
      "ente 2\n"
     ]
    },
    {
     "name": "stdout",
     "output_type": "stream",
     "text": [
      "4\n"
     ]
    },
    {
     "name": "stdin",
     "output_type": "stream",
     "text": [
      "ente 3\n"
     ]
    },
    {
     "name": "stdout",
     "output_type": "stream",
     "text": [
      "9\n"
     ]
    },
    {
     "name": "stdin",
     "output_type": "stream",
     "text": [
      "ente 4\n"
     ]
    },
    {
     "name": "stdout",
     "output_type": "stream",
     "text": [
      "16\n"
     ]
    },
    {
     "name": "stdin",
     "output_type": "stream",
     "text": [
      "ente 5\n"
     ]
    },
    {
     "name": "stdout",
     "output_type": "stream",
     "text": [
      "25\n"
     ]
    }
   ],
   "source": [
    "#wap ask the user to print square of the 5 numbers \n",
    "# and these five numbers ask the user\n",
    "\n",
    "for i in range(5):\n",
    "        num=eval(input(\"ente\"))\n",
    "        print(num*num)\n"
   ]
  },
  {
   "cell_type": "code",
   "execution_count": 83,
   "id": "07f6cc9a-b30c-4d13-830d-36d798a1def7",
   "metadata": {},
   "outputs": [
    {
     "name": "stdout",
     "output_type": "stream",
     "text": [
      "The square of 10 is 100\n",
      "The square of 12 is 144\n",
      "The square of 1 is 1\n",
      "The square of 1 is 1\n",
      "The square of 19 is 361\n"
     ]
    }
   ],
   "source": [
    "#wap ask the uwer to print five times square of a number\n",
    "#this time you need to take every time a random number 1 to 20 \n",
    "import random\n",
    "for i in range(5):\n",
    "        num=random.randint(1,20)\n",
    "        print(\"The square of {} is {}\".format(num,num*num))\n"
   ]
  },
  {
   "cell_type": "code",
   "execution_count": 85,
   "id": "42ac7023-4427-4834-b2ee-6c34081d5ef3",
   "metadata": {},
   "outputs": [
    {
     "name": "stdout",
     "output_type": "stream",
     "text": [
      "10 is an even number\n",
      "11 is an odd number number\n",
      "12 is an even number\n",
      "13 is an odd number number\n",
      "14 is an even number\n",
      "15 is an odd number number\n",
      "16 is an even number\n",
      "17 is an odd number number\n",
      "18 is an even number\n",
      "19 is an odd number number\n",
      "20 is an even number\n",
      "21 is an odd number number\n",
      "22 is an even number\n",
      "23 is an odd number number\n",
      "24 is an even number\n",
      "25 is an odd number number\n",
      "26 is an even number\n",
      "27 is an odd number number\n",
      "28 is an even number\n",
      "29 is an odd number number\n",
      "30 is an even number\n"
     ]
    }
   ],
   "source": [
    "for i in range(10,31):\n",
    "    if i%2==0:\n",
    "        print(\"{} is an even number\".format(i))\n",
    "    else:\n",
    "        print(\"{} is an odd number number\".format(i))"
   ]
  },
  {
   "cell_type": "code",
   "execution_count": 89,
   "id": "dc2f3dc1-a07f-4e13-9878-53df68eb8647",
   "metadata": {},
   "outputs": [
    {
     "name": "stdout",
     "output_type": "stream",
     "text": [
      "25 is odd number\n",
      "10 is even number\n",
      "10 is even number\n",
      "28 is even number\n",
      "28 is even number\n"
     ]
    }
   ],
   "source": [
    "import random\n",
    "for i in range(5):\n",
    "    a=random.randint(10,30)\n",
    "    if a%2==0:\n",
    "        print(\"{} is even number\".format(a))\n",
    "    else:\n",
    "        print(\"{} is odd number\".format(a))\n",
    "    "
   ]
  },
  {
   "cell_type": "code",
   "execution_count": 39,
   "id": "0dc9ab1b-5afd-4784-b192-70af1c631e96",
   "metadata": {},
   "outputs": [
    {
     "name": "stdout",
     "output_type": "stream",
     "text": [
      "10 is even number\n",
      "1\n",
      "19 is odd number\n",
      "13 is odd number\n",
      "15 is odd number\n",
      "18 is even number\n",
      "2\n"
     ]
    }
   ],
   "source": [
    "import random\n",
    "count=0\n",
    "def h(a):\n",
    "    global count\n",
    "    if a%2==0:\n",
    "        count=count+1\n",
    "        print(\"{} is even number\".format(a))\n",
    "        print(count)\n",
    "    else:\n",
    "        print(\"{} is odd number\".format(a))\n",
    "\n",
    "for i in range(5):\n",
    "    h(random.randint(10,30))\n",
    "\n"
   ]
  },
  {
   "cell_type": "code",
   "execution_count": 99,
   "id": "45dc8310-4eaa-4e26-b8a8-59f2a07628a8",
   "metadata": {},
   "outputs": [
    {
     "name": "stdin",
     "output_type": "stream",
     "text": [
      "Enter number between 1 and 10 1\n"
     ]
    },
    {
     "name": "stdout",
     "output_type": "stream",
     "text": [
      "Comp 1\n",
      "u 1\n",
      "You won\n"
     ]
    }
   ],
   "source": [
    "import random\n",
    "try:\n",
    "    for i in range(3):\n",
    "        a=random.randint(1,10)\n",
    "        b=eval(input(\"Enter number between 1 and 10\"))\n",
    "        print(\"Comp\",a)\n",
    "        print(\"u\",b)\n",
    "        if a==b:\n",
    "            print(\"You won\")\n",
    "            break\n",
    "        else:\n",
    "            print(\"you lost try again\")\n",
    "except Exception as e:\n",
    "    print(e)"
   ]
  },
  {
   "cell_type": "code",
   "execution_count": 103,
   "id": "15fbd959-07b0-43c6-bb86-022d8f6c7c09",
   "metadata": {},
   "outputs": [
    {
     "name": "stdin",
     "output_type": "stream",
     "text": [
      "Enter number between 1 and 10 1\n"
     ]
    },
    {
     "name": "stdout",
     "output_type": "stream",
     "text": [
      "Comp 9\n",
      "u 1\n",
      "you lost try again you have 2 chances left\n"
     ]
    },
    {
     "name": "stdin",
     "output_type": "stream",
     "text": [
      "Enter number between 1 and 10 2\n"
     ]
    },
    {
     "name": "stdout",
     "output_type": "stream",
     "text": [
      "Comp 7\n",
      "u 2\n",
      "you lost try again you have 1 chances left\n"
     ]
    },
    {
     "name": "stdin",
     "output_type": "stream",
     "text": [
      "Enter number between 1 and 10 3\n"
     ]
    },
    {
     "name": "stdout",
     "output_type": "stream",
     "text": [
      "Comp 8\n",
      "u 3\n",
      "you lost try again you have 0 chances left\n"
     ]
    }
   ],
   "source": [
    "#Improvise above code you need to mention the user whenever he fail mention the numeber of changes\n",
    "import random\n",
    "count=3\n",
    "try:\n",
    "    for i in range(3):\n",
    "        a=random.randint(1,10)\n",
    "        b=eval(input(\"Enter number between 1 and 10\"))\n",
    "        print(\"Comp\",a)\n",
    "        print(\"u\",b)\n",
    "        if a==b:\n",
    "            print(\"You won\")\n",
    "            break\n",
    "        else:\n",
    "            count=count-1\n",
    "            print(\"you lost try again you have {} chances left\".format(count))\n",
    "            \n",
    "except Exception as e:\n",
    "    print(e)"
   ]
  },
  {
   "cell_type": "code",
   "execution_count": 117,
   "id": "5ec7dabf-5252-41f1-84ec-9493ad237790",
   "metadata": {},
   "outputs": [
    {
     "name": "stdin",
     "output_type": "stream",
     "text": [
      "Enter chacnes 1\n",
      "Enter number between 1 and 10 5\n"
     ]
    },
    {
     "name": "stdout",
     "output_type": "stream",
     "text": [
      "Comp 3\n",
      "u 5\n",
      "You lost all of your chances\n"
     ]
    }
   ],
   "source": [
    "import random\n",
    "count=eval(input(\"Enter chacnes\"))\n",
    "try:\n",
    "    for i in range(count):\n",
    "        a=random.randint(1,10)\n",
    "        b=eval(input(\"Enter number between 1 and 10\"))\n",
    "        print(\"Comp\",a)\n",
    "        print(\"u\",b)\n",
    "        if a==b:\n",
    "            print(\"You won\")\n",
    "            break\n",
    "        else:\n",
    "            count=count-1\n",
    "            if count==0:\n",
    "                print(\"You lost all of your chances\")\n",
    "                break\n",
    "            print(\"you lost try again you have {} chances left\".format(count))\n",
    "            \n",
    "            \n",
    "except Exception as e:\n",
    "    print(e)"
   ]
  },
  {
   "cell_type": "code",
   "execution_count": 5,
   "id": "ffcd4060-ee72-40c8-8885-761182833b2e",
   "metadata": {},
   "outputs": [
    {
     "name": "stdout",
     "output_type": "stream",
     "text": [
      "55\n"
     ]
    }
   ],
   "source": [
    "#wap to as kt he user get the sum of 10 natural numbers\n",
    "count=0\n",
    "for i in range(1,11):\n",
    "    count=count+i\n",
    "print(count)\n",
    "    "
   ]
  },
  {
   "cell_type": "code",
   "execution_count": 3,
   "id": "c4252d5e-4411-4954-adc2-68b75474f65d",
   "metadata": {},
   "outputs": [
    {
     "name": "stdout",
     "output_type": "stream",
     "text": [
      "55\n"
     ]
    }
   ],
   "source": [
    "#WAP  ask the user take a mumber 1 to 99 \n",
    "# iterate the loop 10 times\n",
    "# count how many times a number is coming and greater than 50"
   ]
  },
  {
   "cell_type": "code",
   "execution_count": 41,
   "id": "d217cdfc-1790-4e7b-91c0-b19cddc3326a",
   "metadata": {},
   "outputs": [
    {
     "name": "stdout",
     "output_type": "stream",
     "text": [
      "The 94 is greater than 50\n",
      "The 65 is greater than 50\n",
      "THe 36 os less than 50\n",
      "The 64 is greater than 50\n",
      "The 98 is greater than 50\n",
      "THe 40 os less than 50\n",
      "The 81 is greater than 50\n",
      "The 53 is greater than 50\n",
      "THe 29 os less than 50\n",
      "THe 42 os less than 50\n",
      "The total amount of numbers greather than 50 is 6 and less than 50 is 4\n"
     ]
    }
   ],
   "source": [
    "import random\n",
    "count=0\n",
    "count_2=0\n",
    "for i in range(10):\n",
    "    a=random.randint(1,99)\n",
    "    if a>50:\n",
    "        print(\"The {} is greater than 50\".format(a))\n",
    "        count=count+1\n",
    "    elif a<50:\n",
    "        print(\"THe {} os less than 50\".format(a))\n",
    "        count_2=count_2+1\n",
    "print(\"The total amount of numbers greather than 50 is {} and less than 50 is {}\".format(count,count_2))\n",
    "\n",
    "    "
   ]
  },
  {
   "cell_type": "code",
   "execution_count": 57,
   "id": "2a4b689d-01e7-489a-8fe5-36345a5db141",
   "metadata": {},
   "outputs": [
    {
     "name": "stdin",
     "output_type": "stream",
     "text": [
      "Enter the divisible number 10\n"
     ]
    },
    {
     "name": "stdout",
     "output_type": "stream",
     "text": [
      "1 divides 10\n",
      "2 divides 10\n",
      "3 doesnt divides 10\n",
      "4 doesnt divides 10\n",
      "5 divides 10\n",
      "6 doesnt divides 10\n",
      "7 doesnt divides 10\n",
      "8 doesnt divides 10\n",
      "9 doesnt divides 10\n",
      "10 divides 10\n",
      "4 6\n"
     ]
    }
   ],
   "source": [
    "#number of divisors program\n",
    "count=0\n",
    "count_2=0\n",
    "a=eval(input(\"Enter the divisible number\"))\n",
    "count=0\n",
    "for i in range(1,a+1):\n",
    "    if a%i==0:\n",
    "        print(\"{} divides 10\".format(i))\n",
    "        count=count+1\n",
    "    elif (a/i)%2!=0:\n",
    "        print(\"{} doesnt divides 10\".format(i))\n",
    "        count_2=count_2+1\n",
    "    else:\n",
    "        print(\"Enter a valid number \")\n",
    "print(count,count_2)"
   ]
  },
  {
   "cell_type": "code",
   "execution_count": 101,
   "id": "d295d46c-a08a-4d43-aab8-2b624a3a1ea5",
   "metadata": {},
   "outputs": [
    {
     "name": "stdout",
     "output_type": "stream",
     "text": [
      "1 divides 10\n",
      "2 divides 10\n",
      "3 doesnt divides 10\n",
      "4 doesnt divides 10\n",
      "5 divides 10\n",
      "6 doesnt divides 10\n",
      "7 doesnt divides 10\n",
      "8 doesnt divides 10\n",
      "9 doesnt divides 10\n",
      "10 divides 10\n",
      "4 6\n"
     ]
    }
   ],
   "source": [
    "\n",
    "def lol(a):\n",
    "    count=0\n",
    "    count_2=0\n",
    "    for i in range(1,a+1):\n",
    "        if a%i==0:\n",
    "            print(\"{} divides 10\".format(i))\n",
    "            count=count+1\n",
    "        elif (a/i)%2!=0:\n",
    "            print(\"{} doesnt divides 10\".format(i))\n",
    "            count_2=count_2+1\n",
    "        else:\n",
    "            print(\"Enter a valid number \")\n",
    "    return count,count_2\n",
    "k,j=lol(10)\n",
    "print(k,j)"
   ]
  },
  {
   "cell_type": "code",
   "execution_count": 87,
   "id": "83f4041e-00cf-479c-a219-b26474b574fd",
   "metadata": {},
   "outputs": [
    {
     "name": "stdin",
     "output_type": "stream",
     "text": [
      "Enter the divisible number 10\n"
     ]
    },
    {
     "name": "stdout",
     "output_type": "stream",
     "text": [
      "1 divides 10\n",
      "2 divides 10\n",
      "3 doesnt divides 10\n",
      "4 doesnt divides 10\n",
      "5 divides 10\n",
      "6 doesnt divides 10\n",
      "7 doesnt divides 10\n",
      "8 doesnt divides 10\n",
      "9 doesnt divides 10\n",
      "10 divides 10\n",
      "4 6\n"
     ]
    }
   ],
   "source": [
    "def lol():\n",
    "    count=0\n",
    "    count_2=0\n",
    "    a=eval(input(\"Enter the divisible number\"))\n",
    "    count=0\n",
    "    for i in range(1,a+1):\n",
    "        if a%i==0:\n",
    "            print(\"{} divides 10\".format(i))\n",
    "            count=count+1\n",
    "        elif (a/i)%2!=0:\n",
    "            print(\"{} doesnt divides 10\".format(i))\n",
    "            count_2=count_2+1\n",
    "        else:\n",
    "            print(\"Enter a valid number \")\n",
    "    return count,count_2\n",
    "a,b=lol()\n",
    "print(a,b)"
   ]
  },
  {
   "cell_type": "code",
   "execution_count": null,
   "id": "3286da69-c1b2-4447-8a00-2b9982e66758",
   "metadata": {},
   "outputs": [],
   "source": [
    "count=0\n",
    "count_2=0\n",
    "a=eval(input(\"Enter the divisible number\"))\n",
    "count=0\n",
    "for i in range(1,a+1):\n",
    "    if a%i==0:\n",
    "        print(\"{} divides 10\".format(i))\n",
    "        count=count+1\n",
    "    elif (a/i)%2!=0:\n",
    "        print(\"{} doesnt divides 10\".format(i))\n",
    "        count_2=count_2+1\n",
    "    else:\n",
    "        print(\"Enter a valid number \")\n",
    "print(count,count_2)"
   ]
  }
 ],
 "metadata": {
  "kernelspec": {
   "display_name": "Python [conda env:base] *",
   "language": "python",
   "name": "conda-base-py"
  },
  "language_info": {
   "codemirror_mode": {
    "name": "ipython",
    "version": 3
   },
   "file_extension": ".py",
   "mimetype": "text/x-python",
   "name": "python",
   "nbconvert_exporter": "python",
   "pygments_lexer": "ipython3",
   "version": "3.12.7"
  }
 },
 "nbformat": 4,
 "nbformat_minor": 5
}
