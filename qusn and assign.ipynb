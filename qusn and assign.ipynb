{
 "cells": [
  {
   "cell_type": "markdown",
   "id": "2604da38-b6fa-489c-b067-46384465fb33",
   "metadata": {},
   "source": [
    "Wap to ask user to enter his basic salary,DA amount,Hra amount and calclulate total pay"
   ]
  },
  {
   "cell_type": "code",
   "execution_count": null,
   "id": "43fc3579-8abf-434d-b99b-56d2e51f98a3",
   "metadata": {},
   "outputs": [],
   "source": [
    "basic_salary=eval(input(\"enteryoursalary\"))\n",
    "DA=eval(input(\"Enter your da\"))\n",
    "hra= eval(input(\"Enter your hra\"))\n",
    "tp=basic_salary+DA+hra\n",
    "print(\"the salary is\",tp)\n"
   ]
  },
  {
   "cell_type": "markdown",
   "id": "af923f7e-6771-4d7a-ab28-e4763ac19cb4",
   "metadata": {},
   "source": [
    "**ask the user salary and tax percentage and calculate the salary after tax and how much tax he needs to pay**"
   ]
  },
  {
   "cell_type": "code",
   "execution_count": null,
   "id": "acc66ea3-b3e9-473f-a9ee-ad28536f17cd",
   "metadata": {},
   "outputs": [],
   "source": [
    "s=int(input(\"enter salary\"))\n",
    "t=int(input(\"enter tax percentage\"))\n",
    "tax_amt=s*t/100\n",
    "tsalary=s-tax_amt\n",
    "print(\"the tax amt is\",tax_amt)\n",
    "print(\"the salary is\",tsalary)\n",
    "\n"
   ]
  },
  {
   "cell_type": "markdown",
   "id": "3ba60786-8990-4acb-86de-25fde42479e0",
   "metadata": {},
   "source": [
    "The tax_amt and salary after tax is coming in float format because i used / in my operations if i had done int(s*t/100) the answer would have came in integer format"
   ]
  },
  {
   "cell_type": "code",
   "execution_count": null,
   "id": "6ff15e46-e6a4-4e2f-9e2d-0dd25ee5bbc0",
   "metadata": {},
   "outputs": [],
   "source": [
    "a=eval(\"3+5j\") # Eval is an automatic data type if you procide int it will be int , float it will be float and same"
   ]
  },
  {
   "cell_type": "code",
   "execution_count": null,
   "id": "03ade370-873b-4ea9-bfeb-9e68621bb62f",
   "metadata": {},
   "outputs": [],
   "source": [
    "type(a)"
   ]
  },
  {
   "cell_type": "markdown",
   "id": "32914393-64eb-4e39-b46b-2a4f7a25b7e7",
   "metadata": {},
   "source": [
    "**WAP to ask the user get a value between 1 and 100 and perform the square of the numer**"
   ]
  },
  {
   "cell_type": "code",
   "execution_count": null,
   "id": "547ae475-0bd4-4e59-b34f-7c0e64a41eb3",
   "metadata": {},
   "outputs": [],
   "source": [
    "import random\n",
    "a=random.randint(1,100)\n",
    "\n",
    "s=a*a\n",
    "print(\"The square of {} is {}\".format(a,s))"
   ]
  },
  {
   "cell_type": "markdown",
   "id": "ee9f0679-dfc4-4c39-acf5-e696d5fb27b1",
   "metadata": {},
   "source": [
    "**wap to ask the user distance and rate per sitance and calculate the total charge**"
   ]
  },
  {
   "cell_type": "code",
   "execution_count": null,
   "id": "918999e9-9d10-4922-b84d-d4164144c517",
   "metadata": {},
   "outputs": [],
   "source": [
    "dis=eval(input(\"Provide total distance:\"))\n",
    "f=eval(input(\"provide fare\"))\n",
    "tp=dis*f\n",
    "print(\"The distance is {} and the fare per km is {} so the price became {}\".format(dis,f,tp))"
   ]
  },
  {
   "cell_type": "code",
   "execution_count": null,
   "id": "f9dce9f4-bf60-48b9-bd27-7e0e49bee6e5",
   "metadata": {},
   "outputs": [],
   "source": [
    "print(\"\"\" manager: Enter the bill dollar is not accepted\n",
    "  user: what is accepted\n",
    "  manager:only nrp\"\"\")\n",
    "d=eval(input(\"How many nrp is equal to a dollar?:\"))\n",
    "bl=100*d\n",
    "print(\"The value of a 1 dollar in nrp is {} so the bill is {}\".format(d,bl))"
   ]
  },
  {
   "cell_type": "code",
   "execution_count": null,
   "id": "d98ad378-523b-4d59-b22d-837286be5b3a",
   "metadata": {},
   "outputs": [],
   "source": [
    "import time\n",
    "print(\"hello this is undelayed text\")\n",
    "time.sleep(3)\n",
    "print(\"hello this is delayed text\")"
   ]
  },
  {
   "cell_type": "code",
   "execution_count": null,
   "id": "9a5d6ef6-4c56-4c59-85ef-bd918209dc98",
   "metadata": {},
   "outputs": [],
   "source": [
    "input(\"Father:\")\n",
    "input(\"son:\")"
   ]
  },
  {
   "cell_type": "markdown",
   "id": "ce01f7a6-d224-482c-aa2e-e6f0ec36964d",
   "metadata": {},
   "source": [
    "**assignment 1**\n",
    " **Ask the user to enter a number print out the square of the number** "
   ]
  },
  {
   "cell_type": "code",
   "execution_count": null,
   "id": "b464e807-94d0-4e9a-9b3a-237e9b13b531",
   "metadata": {},
   "outputs": [],
   "source": [
    "a=eval(input(\"Enter number:\"))\n",
    "sqr=a*a\n",
    "print(\"The square of {} is {}\".format(a,sqr))"
   ]
  },
  {
   "cell_type": "markdown",
   "id": "cf45e6d8-a62d-44c7-ac7f-59b1d612a057",
   "metadata": {},
   "source": [
    "**Assignment 2**"
   ]
  },
  {
   "cell_type": "markdown",
   "id": "3cdb2e01-415f-4dc4-a513-eb9ffc239667",
   "metadata": {},
   "source": [
    "Ask the user to enter a number x. print out x,2x,3x,4x and 5x each seperated by three dashes likebelow"
   ]
  },
  {
   "cell_type": "code",
   "execution_count": null,
   "id": "90c38d23-2fa7-401d-82f5-85e9a506faf6",
   "metadata": {},
   "outputs": [],
   "source": [
    "a=eval(input(\"Enter the number\"))\n",
    "print(\"\"\"---\n",
    "\"\"\",2*a,\"\"\"      \"\"\")"
   ]
  },
  {
   "cell_type": "code",
   "execution_count": null,
   "id": "5569c5f3-9f32-429d-9c7a-344b2efb2cd5",
   "metadata": {},
   "outputs": [],
   "source": [
    "#write a programme thatasks the user for weight in kilo and convert it into pounds\n",
    "kg=eval(input(\"Enter your kg to change into pounds\"))\n",
    "pd=kg*2.2\n",
    "print(\"your kg is {} which is equivalent to {} pounds\".format(kg,pd))"
   ]
  },
  {
   "cell_type": "markdown",
   "id": "6a8518f4-07f7-4451-b37a-610f166d87b4",
   "metadata": {},
   "source": [
    "**write a progran that asks user to enter three numbers (use three seperate input statements). Create variable called total and average that hold the sum and average of the three numbers and print out the values of total and average**"
   ]
  },
  {
   "cell_type": "code",
   "execution_count": null,
   "id": "979fa035-bf4d-41df-ac7e-477d46462bca",
   "metadata": {},
   "outputs": [],
   "source": [
    "a=eval(input(\"Enter number\"))\n",
    "b=eval(input(\"Enter number\"))\n",
    "c=eval(input(\"Enter number\"))\n",
    "total=a+b+c\n",
    "average=total/3\n",
    "print(\"The total and average of the given numbers are {} {}\".format(total,average))"
   ]
  },
  {
   "cell_type": "code",
   "execution_count": null,
   "id": "1a50dacf-fff4-4ef9-a2f1-322eadcf793e",
   "metadata": {},
   "outputs": [],
   "source": [
    "import math \n",
    "pii=math.pi    #assigns pI value which is 3.14\n",
    "print(pii)\n",
    "try:\n",
    "    r=eval(input(\"Enter radius\"))\n",
    "    circ=pii*r*r\n",
    "    print(\"Thearea of circle having radius {} is {}\".format(r,circ))\n",
    "except Exception as e:\n",
    "    print(e)\n",
    "\n"
   ]
  },
  {
   "cell_type": "code",
   "execution_count": 17,
   "id": "3da5e991-6fc0-4813-80ce-1b0184b7710f",
   "metadata": {},
   "outputs": [
    {
     "name": "stdin",
     "output_type": "stream",
     "text": [
      "Enter radiu: 5\n"
     ]
    },
    {
     "name": "stdout",
     "output_type": "stream",
     "text": [
      "The area of circle having radius:5 is: 78.53981633974483\n"
     ]
    }
   ],
   "source": [
    "#=============================Without arguments===========================================\n",
    "import math\n",
    "def Area_circle():\n",
    "    pii=math.pi  # this assigns pie value meaning 22/7's value\n",
    "    r=eval(input(\"Enter radiu:\"))\n",
    "    area=pii*r*r\n",
    "    print(\"The area of circle having radius:{} is: {}\".format(r,area))\n",
    "Area_circle()\n",
    "\n",
    "    "
   ]
  },
  {
   "cell_type": "code",
   "execution_count": 21,
   "id": "6ec5fe9f-4880-4ca4-bbd4-f0fbf8430a22",
   "metadata": {},
   "outputs": [
    {
     "name": "stdin",
     "output_type": "stream",
     "text": [
      "Enter radius 5\n"
     ]
    },
    {
     "name": "stdout",
     "output_type": "stream",
     "text": [
      "The area of circle having radius:5 is: 78.53981633974483\n"
     ]
    }
   ],
   "source": [
    "#==================================With arguments===========================================\n",
    "import math\n",
    "def Area_circle(r):\n",
    "    pii=math.pi\n",
    "    area=pii*r*r\n",
    "    print(\"The area of circle having radius:{} is: {}\".format(r,area))\n",
    "Area_circle(eval(input(\"Enter radius\")))"
   ]
  },
  {
   "cell_type": "code",
   "execution_count": 25,
   "id": "3773c6df-430a-4361-ac02-c1881e76d5b5",
   "metadata": {},
   "outputs": [
    {
     "name": "stdout",
     "output_type": "stream",
     "text": [
      "The area of circle having radius:5 is: 78.53981633974483\n"
     ]
    }
   ],
   "source": [
    "#===================================Default arguments=======================================\n",
    "import math\n",
    "def Area_circle(r=5):\n",
    "    pii=math.pi\n",
    "    area=pii*r*r\n",
    "    print(\"The area of circle having radius:{} is: {}\".format(r,area))\n",
    "Area_circle()"
   ]
  },
  {
   "cell_type": "code",
   "execution_count": 1,
   "id": "6925e27d-9274-4338-b57b-6ba1fd40eb00",
   "metadata": {},
   "outputs": [
    {
     "name": "stdout",
     "output_type": "stream",
     "text": [
      "460\n"
     ]
    }
   ],
   "source": [
    "print(150+310)"
   ]
  },
  {
   "cell_type": "code",
   "execution_count": null,
   "id": "3eb1f35c-cbec-4748-b316-99ae8ff9996c",
   "metadata": {},
   "outputs": [],
   "source": []
  }
 ],
 "metadata": {
  "kernelspec": {
   "display_name": "Python [conda env:base] *",
   "language": "python",
   "name": "conda-base-py"
  },
  "language_info": {
   "codemirror_mode": {
    "name": "ipython",
    "version": 3
   },
   "file_extension": ".py",
   "mimetype": "text/x-python",
   "name": "python",
   "nbconvert_exporter": "python",
   "pygments_lexer": "ipython3",
   "version": "3.12.7"
  }
 },
 "nbformat": 4,
 "nbformat_minor": 5
}
