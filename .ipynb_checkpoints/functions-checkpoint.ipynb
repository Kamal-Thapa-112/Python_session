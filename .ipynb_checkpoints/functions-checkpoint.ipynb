{
 "cells": [
  {
   "cell_type": "code",
   "execution_count": null,
   "id": "36cdbb3c-3ac1-4e99-abea-24468ab28c5c",
   "metadata": {},
   "outputs": [],
   "source": [
    "#hello just writing this to test modification of git"
   ]
  },
  {
   "cell_type": "markdown",
   "id": "5b58d740-8da1-42b4-96f5-336650e4a9f4",
   "metadata": {},
   "source": [
    "**Functions**"
   ]
  },
  {
   "cell_type": "markdown",
   "id": "f9b88f68-5f06-4555-97b0-cc81aecf87fd",
   "metadata": {},
   "source": [
    "- Reuse any part of code\n",
    "- function keyword start with def\n",
    "- functions will not display until you call it\n",
    "- you will not get error even if there is error until or unless you call your function\n",
    "- if you are not mentioning any value inside the function bracket it is called without arguments\n",
    "- if you provide values inside function bracket it is called with arguments"
   ]
  },
  {
   "cell_type": "code",
   "execution_count": 8,
   "id": "c777c27d-6bcc-45e9-8f11-b5bea1b5ae31",
   "metadata": {},
   "outputs": [],
   "source": [
    "def addition():\n",
    "    a=10\n",
    "    b=20\n",
    "    add=a+b\n",
    "    print(\"The addition between {} and {} is {}\".format(a,b,add))\n",
    "    "
   ]
  },
  {
   "cell_type": "code",
   "execution_count": 10,
   "id": "48e71309-6d5f-468a-bb62-f7e34d0bc649",
   "metadata": {},
   "outputs": [
    {
     "name": "stdout",
     "output_type": "stream",
     "text": [
      "The addition between 10 and 20 is 30\n"
     ]
    }
   ],
   "source": [
    "addition()         # I called function here"
   ]
  },
  {
   "cell_type": "code",
   "execution_count": 14,
   "id": "97df4bd2-1f2f-4963-9d00-d7569b368c1b",
   "metadata": {},
   "outputs": [
    {
     "name": "stdin",
     "output_type": "stream",
     "text": [
      "Enter number: 1\n",
      "Enter number: 2\n",
      "Enter number: 3\n"
     ]
    },
    {
     "name": "stdout",
     "output_type": "stream",
     "text": [
      "The average of 1 2 and 3 is 2.0\n"
     ]
    }
   ],
   "source": [
    "def avg(): #function is defination\n",
    "    a=eval(input(\"Enter number:\"))\n",
    "    b=eval(input(\"Enter number:\"))\n",
    "    c=eval(input(\"Enter number:\"))\n",
    "    average=(a+b+c)/3\n",
    "    print(\"The average of {} {} and {} is {}\".format(a,b,c,average))\n",
    "avg() #function calling"
   ]
  },
  {
   "cell_type": "code",
   "execution_count": 16,
   "id": "91fb5993-9345-487f-9fd3-c2551c752da5",
   "metadata": {},
   "outputs": [],
   "source": [
    "#you will not get error even if there is error in function until or unless you call it\n",
    "def error():\n",
    "    a=hehe #error is here even if i run no error will come\n"
   ]
  },
  {
   "cell_type": "code",
   "execution_count": 20,
   "id": "6c3c9b4d-76f5-4334-acee-d46be456fb2c",
   "metadata": {},
   "outputs": [
    {
     "ename": "NameError",
     "evalue": "name 'hehe' is not defined",
     "output_type": "error",
     "traceback": [
      "\u001b[1;31m---------------------------------------------------------------------------\u001b[0m",
      "\u001b[1;31mNameError\u001b[0m                                 Traceback (most recent call last)",
      "Cell \u001b[1;32mIn[20], line 1\u001b[0m\n\u001b[1;32m----> 1\u001b[0m error()\n",
      "Cell \u001b[1;32mIn[16], line 3\u001b[0m, in \u001b[0;36merror\u001b[1;34m()\u001b[0m\n\u001b[0;32m      2\u001b[0m \u001b[38;5;28;01mdef\u001b[39;00m \u001b[38;5;21merror\u001b[39m():\n\u001b[1;32m----> 3\u001b[0m     a\u001b[38;5;241m=\u001b[39mhehe\n",
      "\u001b[1;31mNameError\u001b[0m: name 'hehe' is not defined"
     ]
    }
   ],
   "source": [
    "error() # the error will come here "
   ]
  },
  {
   "cell_type": "markdown",
   "id": "082b23bb-803f-4471-8c65-e9fbbcd0c7b6",
   "metadata": {},
   "source": [
    "You can implement exception handeling in function in this manner "
   ]
  },
  {
   "cell_type": "code",
   "execution_count": 41,
   "id": "ef6c9932-79b1-40c8-bae6-bdbf46ec3cc8",
   "metadata": {},
   "outputs": [
    {
     "name": "stdin",
     "output_type": "stream",
     "text": [
      "Enter number: 1\n",
      "Enter number: 2\n",
      "Enter number: 3\n"
     ]
    },
    {
     "name": "stdout",
     "output_type": "stream",
     "text": [
      "The average of 1 2 and 3 is 2.0\n"
     ]
    }
   ],
   "source": [
    "def ty():\n",
    "    try:\n",
    "        a=eval(input(\"Enter number:\"))\n",
    "        b=eval(input(\"Enter number:\"))\n",
    "        c=eval(input(\"Enter number:\"))\n",
    "        average=(a+b+c)/3\n",
    "        print(\"The average of {} {} and {} is {}\".format(a,b,c,average))\n",
    "    except Exception as e:\n",
    "        print(e)\n",
    "ty()"
   ]
  },
  {
   "cell_type": "code",
   "execution_count": 45,
   "id": "006438ee-383c-405b-b693-ccb710ea51ec",
   "metadata": {},
   "outputs": [
    {
     "name": "stdin",
     "output_type": "stream",
     "text": [
      "Enter bill amount 1\n",
      "Enter tip amount 2\n"
     ]
    },
    {
     "name": "stdout",
     "output_type": "stream",
     "text": [
      "your total bill is 3\n"
     ]
    }
   ],
   "source": [
    "def bill():\n",
    "    try:\n",
    "        a=eval(input(\"Enter bill amount\"))\n",
    "        b=eval(input(\"Enter tip amount\"))\n",
    "        t_bl=a+b\n",
    "        print(\"your total bill is\",t_bl)\n",
    "    except Exception as e:\n",
    "        print(e)\n",
    "bill()"
   ]
  },
  {
   "cell_type": "code",
   "execution_count": 49,
   "id": "83593b55-8a5f-4859-8c61-548b6f636a29",
   "metadata": {},
   "outputs": [
    {
     "name": "stdout",
     "output_type": "stream",
     "text": [
      "The 76 is even number\n"
     ]
    }
   ],
   "source": [
    "import random\n",
    "def num():\n",
    "    try:\n",
    "        a=random.randint(1,100)\n",
    "        if a%2==0:\n",
    "            print(\"The {} is even number\".format(a))\n",
    "        else:\n",
    "            print(\"The {} is odd number\".format(a))\n",
    "    except Exception as e:\n",
    "        print(e)\n",
    "num()"
   ]
  },
  {
   "cell_type": "code",
   "execution_count": null,
   "id": "ae23445c-1e18-4843-8fd2-ee62a2a22ed6",
   "metadata": {},
   "outputs": [],
   "source": [
    "def addition():\n",
    "    n1=10\n",
    "    n2=20\n",
    "    print(\"addition\",n1+n2)\n",
    "def sub():\n",
    "    n1=10\n",
    "    n2=20\n",
    "    print(\"addition\",n1-n2)\n",
    "def mul():\n",
    "    n1=10\n",
    "    n2=20\n",
    "    print(\"multiplication\",n1*n2)\n",
    "def div():\n",
    "    n1=10\n",
    "    n2=20\n",
    "    print(\"addition\",n1/n2)"
   ]
  },
  {
   "cell_type": "markdown",
   "id": "0ac03249-778c-4d3c-b344-210729606419",
   "metadata": {},
   "source": [
    "**with arguments**"
   ]
  },
  {
   "cell_type": "code",
   "execution_count": 3,
   "id": "6c592048-6a55-4391-9500-0ebaaeee76aa",
   "metadata": {},
   "outputs": [
    {
     "name": "stdout",
     "output_type": "stream",
     "text": [
      "THe addition of 1 and 2 is 3\n"
     ]
    }
   ],
   "source": [
    "def addition(n1,n2): #arguments\n",
    "    add=n1+n2\n",
    "    print(\"THe addition of {} and {} is {}\".format(n1,n2,add))\n",
    "addition(1,2)"
   ]
  },
  {
   "cell_type": "code",
   "execution_count": 54,
   "id": "dd3d54ec-f5b5-48eb-9d63-b89255a8bf70",
   "metadata": {},
   "outputs": [
    {
     "name": "stdout",
     "output_type": "stream",
     "text": [
      "THe average of 10 20 and 30 is 20.0\n"
     ]
    }
   ],
   "source": [
    "def avg(a,b,c):\n",
    "    average=(a+b+c)/3\n",
    "    print(\"THe average of {} {} and {} is {}\".format(a,b,c,average))\n",
    "avg(10,20,30)"
   ]
  },
  {
   "cell_type": "code",
   "execution_count": 5,
   "id": "82e06df7-8a13-4007-9660-12fe4168fa3c",
   "metadata": {},
   "outputs": [
    {
     "name": "stdout",
     "output_type": "stream",
     "text": [
      "The total bill is : 300\n"
     ]
    }
   ],
   "source": [
    "def bill(a,b):\n",
    "    total_bill=a+b\n",
    "    print(\"The total bill is :\",total_bill)\n",
    "bill(100,200)\n",
    "    "
   ]
  },
  {
   "cell_type": "code",
   "execution_count": 7,
   "id": "ff085ca7-2278-4aeb-8b0d-190b36598b7e",
   "metadata": {},
   "outputs": [
    {
     "name": "stdout",
     "output_type": "stream",
     "text": [
      "4\n"
     ]
    }
   ],
   "source": [
    "def sqr(a):\n",
    "    try:\n",
    "        square=a*a\n",
    "        print(square)\n",
    "    except Exception as e:\n",
    "        print(e)\n",
    "sqr(2)"
   ]
  },
  {
   "cell_type": "code",
   "execution_count": 13,
   "id": "ca67eeb0-46f4-4384-a253-a05e814d1d53",
   "metadata": {},
   "outputs": [
    {
     "name": "stdout",
     "output_type": "stream",
     "text": [
      "The random number is 13\n"
     ]
    },
    {
     "name": "stdin",
     "output_type": "stream",
     "text": [
      "Enter a number 13\n"
     ]
    },
    {
     "name": "stdout",
     "output_type": "stream",
     "text": [
      "You won\n"
     ]
    }
   ],
   "source": [
    "import random\n",
    "def rnm():\n",
    "    try:\n",
    "        a=random.randint(1,20)\n",
    "        print(\"The random number is\",a)\n",
    "        b=eval(input(\"Enter a number\"))\n",
    "        if a==b:\n",
    "            print(\"You won\")\n",
    "        else :\n",
    "            print(\"You lost\")\n",
    "    except Exception as e:\n",
    "        print(e)\n",
    "rnm()\n"
   ]
  },
  {
   "cell_type": "code",
   "execution_count": 19,
   "id": "22287792-b602-4654-b0f7-de6de713c629",
   "metadata": {},
   "outputs": [
    {
     "name": "stdin",
     "output_type": "stream",
     "text": [
      "ENter 10\n"
     ]
    },
    {
     "name": "stdout",
     "output_type": "stream",
     "text": [
      "The random number is 4\n",
      "You lost\n"
     ]
    }
   ],
   "source": [
    "import random\n",
    "def rnm(b):\n",
    "    try:\n",
    "        a=random.randint(1,20)\n",
    "        print(\"The random number is\",a)\n",
    "        \n",
    "        if a==b:\n",
    "            print(\"You won\")\n",
    "        else :\n",
    "            print(\"You lost\")\n",
    "    except Exception as e:\n",
    "        print(e)\n",
    "rnm(eval(input(\"ENter\"))) "
   ]
  },
  {
   "cell_type": "code",
   "execution_count": 23,
   "id": "6a19f0fb-b526-4d9d-ad0e-55b656af97bf",
   "metadata": {},
   "outputs": [
    {
     "name": "stdout",
     "output_type": "stream",
     "text": [
      "The random number is 4\n",
      "You lost\n"
     ]
    }
   ],
   "source": [
    "#we can also do this\n",
    "import random\n",
    "val=1\n",
    "def rnm(b):\n",
    "    try:\n",
    "        a=random.randint(1,20)\n",
    "        print(\"The random number is\",a)\n",
    "        \n",
    "        if a==b:\n",
    "            print(\"You won\")\n",
    "        else :\n",
    "            print(\"You lost\")\n",
    "    except Exception as e:\n",
    "        print(e)\n",
    "rnm(val)\n"
   ]
  },
  {
   "cell_type": "code",
   "execution_count": 28,
   "id": "97c657d4-d730-4997-bc67-3e1b960bc309",
   "metadata": {},
   "outputs": [
    {
     "name": "stdout",
     "output_type": "stream",
     "text": [
      "Your salary is 100000 and you tax percentage is 10% so the total amount of tax is 10000.0\n"
     ]
    }
   ],
   "source": [
    "#wap to ask the user to enter salary tax percentage and calculate total tax\n",
    "def total_tax(salary,tax_percentage):\n",
    "    try:\n",
    "        tax=(salary*tax_percentage)/100\n",
    "        print(\"Your salary is {} and you tax percentage is {}% so the total amount of tax is {}\".format(salary,tax_percentage,tax))\n",
    "    except Exception as e:\n",
    "        print(e)\n",
    "total_tax(100000,10) # I directly put value"
   ]
  },
  {
   "cell_type": "code",
   "execution_count": 36,
   "id": "c970de8a-00f9-4f5e-aa47-53ba351f08e3",
   "metadata": {},
   "outputs": [
    {
     "name": "stdin",
     "output_type": "stream",
     "text": [
      "Enter salary 900000\n",
      "Enter tax percentage 10\n"
     ]
    },
    {
     "name": "stdout",
     "output_type": "stream",
     "text": [
      "Your salary is 900000 and you tax percentage is 10% so the total amount of tax is 90000.0\n"
     ]
    }
   ],
   "source": [
    "#wap to ask the user to enter salary tax percentage and calculate total tax\n",
    "def total_tax(salary,tax_percentage):\n",
    "    try:\n",
    "        tax=(salary*tax_percentage)/100\n",
    "        print(\"Your salary is {} and you tax percentage is {}% so the total amount of tax is {}\".format(salary,tax_percentage,tax))\n",
    "    except Exception as e:\n",
    "        print(e)\n",
    "total_tax(eval(input(\"Enter salary\")),eval(input(\"Enter tax percentage\"))) # I asked the user to enter the tax percentage "
   ]
  },
  {
   "cell_type": "markdown",
   "id": "f879e126-5b4f-461c-b859-bed8b870add1",
   "metadata": {},
   "source": [
    "**when a value is fix we call it default parameters**"
   ]
  },
  {
   "cell_type": "code",
   "execution_count": 41,
   "id": "fb900702-b32f-4b57-a178-b361260ce7b3",
   "metadata": {},
   "outputs": [
    {
     "name": "stdout",
     "output_type": "stream",
     "text": [
      "The total tax is 20000.0\n"
     ]
    }
   ],
   "source": [
    "def tax(salary,tx=20):\n",
    "    total_tax=salary*tx/100\n",
    "    print(\"The total tax is\",total_tax)\n",
    "tax(100000)"
   ]
  },
  {
   "cell_type": "code",
   "execution_count": 43,
   "id": "5b9fbf2a-3813-4b7f-8619-8092f50a4d60",
   "metadata": {},
   "outputs": [
    {
     "name": "stdout",
     "output_type": "stream",
     "text": [
      "2.0\n"
     ]
    }
   ],
   "source": [
    "def avg(n1,n2,n3):# Havent use any default parameter\n",
    "    add=n1+n2+n3\n",
    "    aver=add/3\n",
    "    print(aver)\n",
    "avg(1,2,3)"
   ]
  },
  {
   "cell_type": "code",
   "execution_count": 45,
   "id": "9e991ff1-7793-4ade-a9a1-74891b8e9168",
   "metadata": {},
   "outputs": [
    {
     "name": "stdout",
     "output_type": "stream",
     "text": [
      "2.0\n"
     ]
    }
   ],
   "source": [
    "def avg(n1,n2,n3=3):# Have used default n3=3\n",
    "    add=n1+n2+n3\n",
    "    aver=add/3\n",
    "    print(aver)\n",
    "avg(1,2)    #only passed value of n1 and n2"
   ]
  },
  {
   "cell_type": "code",
   "execution_count": 49,
   "id": "124de203-21cd-4bf6-ac4f-94855326fc4e",
   "metadata": {},
   "outputs": [
    {
     "name": "stdout",
     "output_type": "stream",
     "text": [
      "68.0\n"
     ]
    }
   ],
   "source": [
    "def avg(n1,n3,n2=200): #always write default parameters at last \n",
    "    add=n1+n2+n3\n",
    "    aver=add/3\n",
    "    print(aver)\n",
    "avg(1,3)    "
   ]
  },
  {
   "cell_type": "code",
   "execution_count": 1,
   "id": "1eb2016a-94d9-4c1b-b9bc-e819b5c10ff7",
   "metadata": {},
   "outputs": [
    {
     "name": "stdout",
     "output_type": "stream",
     "text": [
      "68.0\n"
     ]
    },
    {
     "ename": "NameError",
     "evalue": "name 'aver' is not defined",
     "output_type": "error",
     "traceback": [
      "\u001b[1;31m---------------------------------------------------------------------------\u001b[0m",
      "\u001b[1;31mNameError\u001b[0m                                 Traceback (most recent call last)",
      "Cell \u001b[1;32mIn[1], line 6\u001b[0m\n\u001b[0;32m      4\u001b[0m     \u001b[38;5;28mprint\u001b[39m(aver)\n\u001b[0;32m      5\u001b[0m avg(\u001b[38;5;241m1\u001b[39m,\u001b[38;5;241m3\u001b[39m) \n\u001b[1;32m----> 6\u001b[0m \u001b[38;5;28mprint\u001b[39m(aver)\n",
      "\u001b[1;31mNameError\u001b[0m: name 'aver' is not defined"
     ]
    }
   ],
   "source": [
    "def avg(n1,n3,n2=200): #always write default parameters at last \n",
    "    add=n1+n2+n3\n",
    "    aver=add/3\n",
    "    print(aver)\n",
    "avg(1,3) \n",
    "print(aver) # as you can see i cant print the thing which is inside the function because function is not returning the value"
   ]
  },
  {
   "cell_type": "markdown",
   "id": "bccd6b4e-7688-4703-89a6-309f714e5422",
   "metadata": {},
   "source": [
    "**Return Concept**"
   ]
  },
  {
   "cell_type": "code",
   "execution_count": 16,
   "id": "d506d941-5c1d-452d-b347-b134434dfa9b",
   "metadata": {},
   "outputs": [
    {
     "name": "stdout",
     "output_type": "stream",
     "text": [
      "68.0\n"
     ]
    }
   ],
   "source": [
    "def avg(n1,n3,n2=200): #always write default parameters at last \n",
    "    add=n1+n2+n3\n",
    "    aver=add/3\n",
    "    print(aver)\n",
    "    return(add) # this will return add when function is called \n",
    "h=avg(1,3) # this will save that return statements value in a variabel\n",
    "print(h)"
   ]
  },
  {
   "cell_type": "code",
   "execution_count": 44,
   "id": "365ab7d2-a34c-4c3b-bb10-2a5bf1a0d2a9",
   "metadata": {},
   "outputs": [
    {
     "name": "stdin",
     "output_type": "stream",
     "text": [
      "Enter 1\n",
      "Enter 2\n",
      "Enter 3\n"
     ]
    },
    {
     "name": "stdout",
     "output_type": "stream",
     "text": [
      "The average is 3.0\n",
      "6\n"
     ]
    }
   ],
   "source": [
    "def avg():\n",
    "    try:\n",
    "        a=eval(input(\"Enter\"))\n",
    "        b=eval(input(\"Enter\"))\n",
    "        c=eval(input(\"Enter\"))\n",
    "        sum=a+b+c\n",
    "        aver=sum/2\n",
    "        print(\"The average is\",aver)\n",
    "        return(sum,a,b,c)\n",
    "    except Exception as e:\n",
    "        print(e)\n",
    "s_v,a_v,b_v,c_v=avg()\n",
    "print(s_v)\n"
   ]
  },
  {
   "cell_type": "code",
   "execution_count": 48,
   "id": "92720453-58a5-4560-a808-4a65e71defb2",
   "metadata": {},
   "outputs": [
    {
     "name": "stdout",
     "output_type": "stream",
     "text": [
      "The average is 3.0\n",
      "The sum of this numbers are 6\n"
     ]
    }
   ],
   "source": [
    "def avg(a,b,c):\n",
    "    try:\n",
    "        \n",
    "        sum=a+b+c\n",
    "        aver=sum/2\n",
    "        print(\"The average is\",aver)\n",
    "        return(sum,a,b,c)\n",
    "    except Exception as e:\n",
    "        print(e)\n",
    "s_v,a_v,b_v,c_v=avg(1,2,3)\n",
    "print(\"The sum of this numbers are\",s_v)"
   ]
  },
  {
   "cell_type": "code",
   "execution_count": 52,
   "id": "c9fbf3c8-6bc7-4ba2-a489-a7c73db8f45d",
   "metadata": {},
   "outputs": [
    {
     "name": "stdout",
     "output_type": "stream",
     "text": [
      "3 Is the largest number\n",
      "THe first number is 1\n",
      "THe first number is 2\n",
      "THe first number is 3\n"
     ]
    }
   ],
   "source": [
    "#find the biggest numberumbers among 3 n and return all the numbers\n",
    "def big(a,b,c):\n",
    "    try:\n",
    "        if a>b and a>c:\n",
    "            print(a,\"is the largest number\")\n",
    "        elif b>a and b>c:\n",
    "            print(b,\"is the largest number\")\n",
    "        else :\n",
    "            print(c,\"Is the largest number\")\n",
    "        return(a,b,c)\n",
    "    except Exception as e:\n",
    "        print(e)\n",
    "a_v,b_v,c_v=big(1,2,3)\n",
    "print(\"THe first number is\",a_v)\n",
    "print(\"THe first number is\",b_v)\n",
    "print(\"THe first number is\",c_v)"
   ]
  },
  {
   "cell_type": "code",
   "execution_count": 64,
   "id": "5766336b-d3ee-4aaa-8d6b-a2e816746842",
   "metadata": {},
   "outputs": [
    {
     "data": {
      "text/plain": [
       "2.0"
      ]
     },
     "execution_count": 64,
     "metadata": {},
     "output_type": "execute_result"
    }
   ],
   "source": [
    "def sum(n1,n2,n3):\n",
    "    return(n1+n2+n3,(n1+n2+n3)/3)\n",
    "h,b=sum(1,2,3)\n",
    "b\n",
    "\n"
   ]
  },
  {
   "cell_type": "code",
   "execution_count": 66,
   "id": "222d96d0-e9d6-4e5f-81f9-3314ad8aa9e4",
   "metadata": {},
   "outputs": [
    {
     "name": "stdout",
     "output_type": "stream",
     "text": [
      "3 -1 2 0.5\n"
     ]
    }
   ],
   "source": [
    "def add(a,b):\n",
    "    return(a+b)\n",
    "def sub(a,b):\n",
    "    return(a-b)\n",
    "def mul(a,b):\n",
    "    return(a*b)\n",
    "def div(a,b):\n",
    "    return(a/b)\n",
    "ad=add(1,2)\n",
    "sd=sub(1,2)\n",
    "md=mul(1,2)\n",
    "dd=div(1,2)\n",
    "print(ad,sd,md,dd)"
   ]
  },
  {
   "cell_type": "code",
   "execution_count": 70,
   "id": "d0c72130-e58b-48e5-a21c-1a6f7d928fd9",
   "metadata": {},
   "outputs": [
    {
     "name": "stdout",
     "output_type": "stream",
     "text": [
      "-1\n"
     ]
    }
   ],
   "source": [
    "def value(a,b):\n",
    "    return(a+b,a-b,a*b,a/b)\n",
    "z,x,c,v=value(1,2)\n",
    "print(x)"
   ]
  },
  {
   "cell_type": "markdown",
   "id": "dbc380a4-9bd7-4d47-b8e4-c4fe21e31e89",
   "metadata": {},
   "source": [
    "**Local Variables and Global variables**"
   ]
  },
  {
   "cell_type": "markdown",
   "id": "ccf0d380-3025-47bf-88eb-faaf419f3c50",
   "metadata": {},
   "source": [
    "- Local varaibles are those variables which is provided inside the function\n",
    "- global variables are those varaibles which is provided outside the function\n",
    "- Local varaibles values cannont be used outside the function until and unless your use return those values in a global varaible\n",
    "- Global varaibles cant be used inside the function as well\n",
    "- \n"
   ]
  },
  {
   "cell_type": "code",
   "execution_count": null,
   "id": "9b09f481-0943-48f1-9d01-90a8d87c89e5",
   "metadata": {},
   "outputs": [],
   "source": [
    "##====local variable example=======\n",
    "def helo():\n",
    "    n=1 # this is a local variable"
   ]
  },
  {
   "cell_type": "code",
   "execution_count": null,
   "id": "1a8e062a-0ed4-4076-8987-d3a0abfa3cc1",
   "metadata": {},
   "outputs": [],
   "source": [
    "#=============global variable example\n",
    "n1=30 # this is global variable\n",
    "def hlo():\n",
    "    n2=30"
   ]
  },
  {
   "cell_type": "code",
   "execution_count": 10,
   "id": "feb3135b-4fab-4148-b053-5296ffa147fc",
   "metadata": {},
   "outputs": [
    {
     "name": "stdout",
     "output_type": "stream",
     "text": [
      "1000\n"
     ]
    }
   ],
   "source": [
    "n1=30\n",
    "n2=40\n",
    "def hi(n1=30):\n",
    "    n2=500\n",
    "    sum=n1+n2\n",
    "    print(sum)\n",
    "hi(n1=500)\n",
    "\n",
    "    "
   ]
  },
  {
   "cell_type": "code",
   "execution_count": 28,
   "id": "212e952d-b78c-4464-8412-e142333816c4",
   "metadata": {},
   "outputs": [
    {
     "name": "stdout",
     "output_type": "stream",
     "text": [
      "sum is 20\n"
     ]
    },
    {
     "ename": "NameError",
     "evalue": "name 'sm' is not defined",
     "output_type": "error",
     "traceback": [
      "\u001b[1;31m---------------------------------------------------------------------------\u001b[0m",
      "\u001b[1;31mNameError\u001b[0m                                 Traceback (most recent call last)",
      "Cell \u001b[1;32mIn[28], line 8\u001b[0m\n\u001b[0;32m      6\u001b[0m     \u001b[38;5;28mprint\u001b[39m(\u001b[38;5;124m\"\u001b[39m\u001b[38;5;124msum is\u001b[39m\u001b[38;5;124m\"\u001b[39m,sm)\n\u001b[0;32m      7\u001b[0m up()\n\u001b[1;32m----> 8\u001b[0m \u001b[38;5;28mprint\u001b[39m(sm)\n",
      "\u001b[1;31mNameError\u001b[0m: name 'sm' is not defined"
     ]
    }
   ],
   "source": [
    "#if you want to use local varaible outside without using return statement use global keyword\n",
    "n1=10\n",
    "def up():\n",
    "    n2=10\n",
    "    sm=n1+n2\n",
    "    print(\"sum is\",sm)\n",
    "up()\n",
    "print(sm) #Eror will come because im trying to print n2 without returning meaning im trying to use local variable outside the fuunction"
   ]
  },
  {
   "cell_type": "code",
   "execution_count": 30,
   "id": "b25b7244-0461-4352-b5b2-4f5407e83108",
   "metadata": {},
   "outputs": [
    {
     "name": "stdout",
     "output_type": "stream",
     "text": [
      "sum is 20\n",
      "20\n"
     ]
    }
   ],
   "source": [
    "n1=10\n",
    "def up():\n",
    "    n2=10\n",
    "    global sm # I defined sm as a global variable now i can use it anywhere outside the function as well\n",
    "    sm=n1+n2\n",
    "    print(\"sum is\",sm)\n",
    "up()\n",
    "print(sm)"
   ]
  },
  {
   "cell_type": "markdown",
   "id": "1c9bcd47-d06f-4d09-bdf6-cbe6e778aa38",
   "metadata": {},
   "source": [
    "**Function in Function(using function inside function**"
   ]
  },
  {
   "cell_type": "code",
   "execution_count": 33,
   "id": "15423858-30a5-4cd6-9a82-6fd7f90994f4",
   "metadata": {},
   "outputs": [
    {
     "name": "stdout",
     "output_type": "stream",
     "text": [
      "Hlo\n",
      "Python\n"
     ]
    }
   ],
   "source": [
    "def greet():\n",
    "    print(\"Hlo\")\n",
    "def name():\n",
    "    print(\"Python\")\n",
    "greet()\n",
    "name()"
   ]
  },
  {
   "cell_type": "code",
   "execution_count": 35,
   "id": "a9a1698e-16c3-406c-b992-af104ee7bf8d",
   "metadata": {},
   "outputs": [
    {
     "name": "stdout",
     "output_type": "stream",
     "text": [
      "Python\n",
      "Hlo\n"
     ]
    }
   ],
   "source": [
    "def greet():\n",
    "    print(\"Hlo\")\n",
    "def name():\n",
    "    print(\"Python\")\n",
    "    greet()\n",
    "name()"
   ]
  },
  {
   "cell_type": "code",
   "execution_count": null,
   "id": "e7c4bb92-0000-465e-8f68-0f3dd629539f",
   "metadata": {},
   "outputs": [],
   "source": [
    "## I wont run this because this will go in infinite loop because each function is being called everytime\n",
    "def greet():\n",
    "    print(\"Hlo\")\n",
    "    name()\n",
    "def name():\n",
    "    print(\"Python\")\n",
    "    greet()"
   ]
  },
  {
   "cell_type": "code",
   "execution_count": 38,
   "id": "a50202fa-03e5-4b5d-90d6-27393a9efe0e",
   "metadata": {},
   "outputs": [],
   "source": [
    "str1='10'\n",
    "str2='20'"
   ]
  },
  {
   "cell_type": "code",
   "execution_count": 40,
   "id": "0cbb108d-0df6-4b7a-8131-0e468ce167a8",
   "metadata": {},
   "outputs": [
    {
     "data": {
      "text/plain": [
       "'1020'"
      ]
     },
     "execution_count": 40,
     "metadata": {},
     "output_type": "execute_result"
    }
   ],
   "source": [
    "str1+str2"
   ]
  },
  {
   "cell_type": "code",
   "execution_count": 60,
   "id": "b24d264c-4942-48e0-bcf3-a8fbc41196ab",
   "metadata": {},
   "outputs": [
    {
     "name": "stdin",
     "output_type": "stream",
     "text": [
      "Enter 1 to start add operation 2 to subract 3 to multiply and 4 to divide 2\n",
      "Enter first number 5\n",
      "Enter second number \n"
     ]
    },
    {
     "ename": "SyntaxError",
     "evalue": "invalid syntax (<string>, line 0)",
     "output_type": "error",
     "traceback": [
      "Traceback \u001b[1;36m(most recent call last)\u001b[0m:\n",
      "\u001b[0m  File \u001b[0;32mE:\\anaconda\\Lib\\site-packages\\IPython\\core\\interactiveshell.py:3577\u001b[0m in \u001b[0;35mrun_code\u001b[0m\n    exec(code_obj, self.user_global_ns, self.user_ns)\u001b[0m\n",
      "\u001b[0m  Cell \u001b[0;32mIn[60], line 25\u001b[0m\n    main()\u001b[0m\n",
      "\u001b[1;36m  Cell \u001b[1;32mIn[60], line 18\u001b[1;36m in \u001b[1;35mmain\u001b[1;36m\n\u001b[1;33m    sub(eval(input(\"Enter first number\")),eval(input(\"Enter second number\")))\u001b[1;36m\n",
      "\u001b[1;36m  File \u001b[1;32m<string>\u001b[1;36m\u001b[0m\n\u001b[1;33m    \u001b[0m\n\u001b[1;37m    ^\u001b[0m\n\u001b[1;31mSyntaxError\u001b[0m\u001b[1;31m:\u001b[0m invalid syntax\n"
     ]
    }
   ],
   "source": [
    "def add(n1,n2):\n",
    "    sm=n1+n2\n",
    "    print(\"The sum of {} and {} is {}\".format(n1,n2,sm))\n",
    "def sub(n1,n2):\n",
    "    sb=n1-n2\n",
    "    print(\"The subraction of {} and {} is {}\".format(n1,n2,sb))\n",
    "def mul(n1,n2):\n",
    "    ml=n1*n2\n",
    "    print(\"The multiplication of {} and {} is {}\".format(n1,n2,ml))\n",
    "def div(n1,n2):\n",
    "    dv=n1/n2\n",
    "    print(\"The Division of {} and {} is {}\".format(n1,n2,dv))\n",
    "def main():\n",
    "    a=eval(input(\"Enter 1 to start add operation 2 to subract 3 to multiply and 4 to divide\"))\n",
    "    if  a==1:\n",
    "        add(eval(input(\"Enter first number\")),eval(input(\"Enter second number\")))\n",
    "    elif a==2:\n",
    "        sub(eval(input(\"Enter first number\")),eval(input(\"Enter second number\")))\n",
    "    elif a==3:\n",
    "        mul(eval(input(\"Enter first number\")),eval(input(\"Enter second number\")))\n",
    "    elif a==4:\n",
    "        div(eval(input(\"Enter first number\")),eval(input(\"Enter second number\")))\n",
    "    else :\n",
    "        print(\"Invalid input\")\n",
    "main()\n",
    "    \n",
    "        "
   ]
  },
  {
   "cell_type": "code",
   "execution_count": null,
   "id": "2adadbda-7bc5-4be2-80bc-7e33809816aa",
   "metadata": {},
   "outputs": [],
   "source": []
  }
 ],
 "metadata": {
  "kernelspec": {
   "display_name": "Python [conda env:base] *",
   "language": "python",
   "name": "conda-base-py"
  },
  "language_info": {
   "codemirror_mode": {
    "name": "ipython",
    "version": 3
   },
   "file_extension": ".py",
   "mimetype": "text/x-python",
   "name": "python",
   "nbconvert_exporter": "python",
   "pygments_lexer": "ipython3",
   "version": "3.12.7"
  }
 },
 "nbformat": 4,
 "nbformat_minor": 5
}
